{
 "cells": [
  {
   "cell_type": "markdown",
   "metadata": {
    "id": "t5tfEQ-83aj4"
   },
   "source": [
    "#### **Import Libraries**"
   ]
  },
  {
   "cell_type": "code",
   "execution_count": 165,
   "metadata": {
    "execution": {
     "iopub.execute_input": "2022-08-13T19:45:53.387786Z",
     "iopub.status.busy": "2022-08-13T19:45:53.387382Z",
     "iopub.status.idle": "2022-08-13T19:45:53.394441Z",
     "shell.execute_reply": "2022-08-13T19:45:53.393069Z",
     "shell.execute_reply.started": "2022-08-13T19:45:53.387753Z"
    },
    "id": "OjzVy9k03aj6"
   },
   "outputs": [],
   "source": [
    "import pandas as pd\n",
    "import numpy as np\n",
    "\n",
    "import seaborn as sns\n",
    "import plotly.express as px\n",
    "import plotly.graph_objects as go\n",
    "import matplotlib.pyplot as plt\n",
    "\n",
    "from tqdm import tqdm\n",
    "from ast import literal_eval\n",
    "import warnings\n",
    "warnings.filterwarnings('ignore')"
   ]
  },
  {
   "cell_type": "markdown",
   "metadata": {
    "id": "UN2RJXiM3aj7"
   },
   "source": [
    "# Importing Data"
   ]
  },
  {
   "cell_type": "code",
   "execution_count": 166,
   "metadata": {
    "colab": {
     "base_uri": "https://localhost:8080/",
     "height": 256
    },
    "execution": {
     "iopub.execute_input": "2022-08-13T19:45:53.634060Z",
     "iopub.status.busy": "2022-08-13T19:45:53.633406Z",
     "iopub.status.idle": "2022-08-13T19:45:56.700286Z",
     "shell.execute_reply": "2022-08-13T19:45:56.699441Z",
     "shell.execute_reply.started": "2022-08-13T19:45:53.634021Z"
    },
    "id": "S6sPpHBk3aj7",
    "outputId": "0e47f2b8-d8da-4e36-cb4e-afb4bbbedd9f"
   },
   "outputs": [],
   "source": [
    "\n",
    "df = pd.read_csv(\"C://Users/milin/Documents/AI_ML/CApstone Project/movies_metadata.csv\")\n",
    "keywords = pd.read_csv(\"C://Users/milin/Documents/AI_ML/CApstone Project/keywords.csv\")\n",
    "credits = pd.read_csv(\"C://Users/milin/Documents/AI_ML/CApstone Project/credits.csv\")"
   ]
  },
  {
   "cell_type": "code",
   "execution_count": 167,
   "metadata": {},
   "outputs": [
    {
     "data": {
      "text/html": [
       "<div>\n",
       "<style scoped>\n",
       "    .dataframe tbody tr th:only-of-type {\n",
       "        vertical-align: middle;\n",
       "    }\n",
       "\n",
       "    .dataframe tbody tr th {\n",
       "        vertical-align: top;\n",
       "    }\n",
       "\n",
       "    .dataframe thead th {\n",
       "        text-align: right;\n",
       "    }\n",
       "</style>\n",
       "<table border=\"1\" class=\"dataframe\">\n",
       "  <thead>\n",
       "    <tr style=\"text-align: right;\">\n",
       "      <th></th>\n",
       "      <th>adult</th>\n",
       "      <th>belongs_to_collection</th>\n",
       "      <th>budget</th>\n",
       "      <th>genres</th>\n",
       "      <th>homepage</th>\n",
       "      <th>id</th>\n",
       "      <th>imdb_id</th>\n",
       "      <th>original_language</th>\n",
       "      <th>original_title</th>\n",
       "      <th>overview</th>\n",
       "      <th>...</th>\n",
       "      <th>release_date</th>\n",
       "      <th>revenue</th>\n",
       "      <th>runtime</th>\n",
       "      <th>spoken_languages</th>\n",
       "      <th>status</th>\n",
       "      <th>tagline</th>\n",
       "      <th>title</th>\n",
       "      <th>video</th>\n",
       "      <th>vote_average</th>\n",
       "      <th>vote_count</th>\n",
       "    </tr>\n",
       "  </thead>\n",
       "  <tbody>\n",
       "    <tr>\n",
       "      <th>14551</th>\n",
       "      <td>False</td>\n",
       "      <td>{'id': 87096, 'name': 'Avatar Collection', 'po...</td>\n",
       "      <td>237000000</td>\n",
       "      <td>[{'id': 28, 'name': 'Action'}, {'id': 12, 'nam...</td>\n",
       "      <td>http://www.avatarmovie.com/</td>\n",
       "      <td>19995</td>\n",
       "      <td>tt0499549</td>\n",
       "      <td>en</td>\n",
       "      <td>Avatar</td>\n",
       "      <td>In the 22nd century, a paraplegic Marine is di...</td>\n",
       "      <td>...</td>\n",
       "      <td>2009-12-10</td>\n",
       "      <td>2.787965e+09</td>\n",
       "      <td>162.0</td>\n",
       "      <td>[{'iso_639_1': 'en', 'name': 'English'}, {'iso...</td>\n",
       "      <td>Released</td>\n",
       "      <td>Enter the World of Pandora.</td>\n",
       "      <td>Avatar</td>\n",
       "      <td>False</td>\n",
       "      <td>7.2</td>\n",
       "      <td>12114.0</td>\n",
       "    </tr>\n",
       "  </tbody>\n",
       "</table>\n",
       "<p>1 rows × 24 columns</p>\n",
       "</div>"
      ],
      "text/plain": [
       "       adult                              belongs_to_collection     budget  \\\n",
       "14551  False  {'id': 87096, 'name': 'Avatar Collection', 'po...  237000000   \n",
       "\n",
       "                                                  genres  \\\n",
       "14551  [{'id': 28, 'name': 'Action'}, {'id': 12, 'nam...   \n",
       "\n",
       "                          homepage     id    imdb_id original_language  \\\n",
       "14551  http://www.avatarmovie.com/  19995  tt0499549                en   \n",
       "\n",
       "      original_title                                           overview  ...  \\\n",
       "14551         Avatar  In the 22nd century, a paraplegic Marine is di...  ...   \n",
       "\n",
       "      release_date       revenue runtime  \\\n",
       "14551   2009-12-10  2.787965e+09   162.0   \n",
       "\n",
       "                                        spoken_languages    status  \\\n",
       "14551  [{'iso_639_1': 'en', 'name': 'English'}, {'iso...  Released   \n",
       "\n",
       "                           tagline   title  video vote_average vote_count  \n",
       "14551  Enter the World of Pandora.  Avatar  False          7.2    12114.0  \n",
       "\n",
       "[1 rows x 24 columns]"
      ]
     },
     "execution_count": 167,
     "metadata": {},
     "output_type": "execute_result"
    }
   ],
   "source": [
    "df.loc[df.original_title == \"Avatar\"]"
   ]
  },
  {
   "cell_type": "code",
   "execution_count": 168,
   "metadata": {
    "colab": {
     "base_uri": "https://localhost:8080/",
     "height": 739
    },
    "execution": {
     "iopub.execute_input": "2022-08-13T19:45:56.702326Z",
     "iopub.status.busy": "2022-08-13T19:45:56.701823Z",
     "iopub.status.idle": "2022-08-13T19:45:56.729574Z",
     "shell.execute_reply": "2022-08-13T19:45:56.728789Z",
     "shell.execute_reply.started": "2022-08-13T19:45:56.702290Z"
    },
    "id": "uJMRnG-W3aj7",
    "outputId": "3c0337f4-0491-4c8f-9c15-0c9e76583b2d"
   },
   "outputs": [
    {
     "data": {
      "text/html": [
       "<div>\n",
       "<style scoped>\n",
       "    .dataframe tbody tr th:only-of-type {\n",
       "        vertical-align: middle;\n",
       "    }\n",
       "\n",
       "    .dataframe tbody tr th {\n",
       "        vertical-align: top;\n",
       "    }\n",
       "\n",
       "    .dataframe thead th {\n",
       "        text-align: right;\n",
       "    }\n",
       "</style>\n",
       "<table border=\"1\" class=\"dataframe\">\n",
       "  <thead>\n",
       "    <tr style=\"text-align: right;\">\n",
       "      <th></th>\n",
       "      <th>adult</th>\n",
       "      <th>belongs_to_collection</th>\n",
       "      <th>budget</th>\n",
       "      <th>genres</th>\n",
       "      <th>homepage</th>\n",
       "      <th>id</th>\n",
       "      <th>imdb_id</th>\n",
       "      <th>original_language</th>\n",
       "      <th>original_title</th>\n",
       "      <th>overview</th>\n",
       "      <th>...</th>\n",
       "      <th>release_date</th>\n",
       "      <th>revenue</th>\n",
       "      <th>runtime</th>\n",
       "      <th>spoken_languages</th>\n",
       "      <th>status</th>\n",
       "      <th>tagline</th>\n",
       "      <th>title</th>\n",
       "      <th>video</th>\n",
       "      <th>vote_average</th>\n",
       "      <th>vote_count</th>\n",
       "    </tr>\n",
       "  </thead>\n",
       "  <tbody>\n",
       "    <tr>\n",
       "      <th>0</th>\n",
       "      <td>False</td>\n",
       "      <td>{'id': 10194, 'name': 'Toy Story Collection', ...</td>\n",
       "      <td>30000000</td>\n",
       "      <td>[{'id': 16, 'name': 'Animation'}, {'id': 35, '...</td>\n",
       "      <td>http://toystory.disney.com/toy-story</td>\n",
       "      <td>862</td>\n",
       "      <td>tt0114709</td>\n",
       "      <td>en</td>\n",
       "      <td>Toy Story</td>\n",
       "      <td>Led by Woody, Andy's toys live happily in his ...</td>\n",
       "      <td>...</td>\n",
       "      <td>1995-10-30</td>\n",
       "      <td>373554033.0</td>\n",
       "      <td>81.0</td>\n",
       "      <td>[{'iso_639_1': 'en', 'name': 'English'}]</td>\n",
       "      <td>Released</td>\n",
       "      <td>NaN</td>\n",
       "      <td>Toy Story</td>\n",
       "      <td>False</td>\n",
       "      <td>7.7</td>\n",
       "      <td>5415.0</td>\n",
       "    </tr>\n",
       "    <tr>\n",
       "      <th>1</th>\n",
       "      <td>False</td>\n",
       "      <td>NaN</td>\n",
       "      <td>65000000</td>\n",
       "      <td>[{'id': 12, 'name': 'Adventure'}, {'id': 14, '...</td>\n",
       "      <td>NaN</td>\n",
       "      <td>8844</td>\n",
       "      <td>tt0113497</td>\n",
       "      <td>en</td>\n",
       "      <td>Jumanji</td>\n",
       "      <td>When siblings Judy and Peter discover an encha...</td>\n",
       "      <td>...</td>\n",
       "      <td>1995-12-15</td>\n",
       "      <td>262797249.0</td>\n",
       "      <td>104.0</td>\n",
       "      <td>[{'iso_639_1': 'en', 'name': 'English'}, {'iso...</td>\n",
       "      <td>Released</td>\n",
       "      <td>Roll the dice and unleash the excitement!</td>\n",
       "      <td>Jumanji</td>\n",
       "      <td>False</td>\n",
       "      <td>6.9</td>\n",
       "      <td>2413.0</td>\n",
       "    </tr>\n",
       "    <tr>\n",
       "      <th>2</th>\n",
       "      <td>False</td>\n",
       "      <td>{'id': 119050, 'name': 'Grumpy Old Men Collect...</td>\n",
       "      <td>0</td>\n",
       "      <td>[{'id': 10749, 'name': 'Romance'}, {'id': 35, ...</td>\n",
       "      <td>NaN</td>\n",
       "      <td>15602</td>\n",
       "      <td>tt0113228</td>\n",
       "      <td>en</td>\n",
       "      <td>Grumpier Old Men</td>\n",
       "      <td>A family wedding reignites the ancient feud be...</td>\n",
       "      <td>...</td>\n",
       "      <td>1995-12-22</td>\n",
       "      <td>0.0</td>\n",
       "      <td>101.0</td>\n",
       "      <td>[{'iso_639_1': 'en', 'name': 'English'}]</td>\n",
       "      <td>Released</td>\n",
       "      <td>Still Yelling. Still Fighting. Still Ready for...</td>\n",
       "      <td>Grumpier Old Men</td>\n",
       "      <td>False</td>\n",
       "      <td>6.5</td>\n",
       "      <td>92.0</td>\n",
       "    </tr>\n",
       "    <tr>\n",
       "      <th>3</th>\n",
       "      <td>False</td>\n",
       "      <td>NaN</td>\n",
       "      <td>16000000</td>\n",
       "      <td>[{'id': 35, 'name': 'Comedy'}, {'id': 18, 'nam...</td>\n",
       "      <td>NaN</td>\n",
       "      <td>31357</td>\n",
       "      <td>tt0114885</td>\n",
       "      <td>en</td>\n",
       "      <td>Waiting to Exhale</td>\n",
       "      <td>Cheated on, mistreated and stepped on, the wom...</td>\n",
       "      <td>...</td>\n",
       "      <td>1995-12-22</td>\n",
       "      <td>81452156.0</td>\n",
       "      <td>127.0</td>\n",
       "      <td>[{'iso_639_1': 'en', 'name': 'English'}]</td>\n",
       "      <td>Released</td>\n",
       "      <td>Friends are the people who let you be yourself...</td>\n",
       "      <td>Waiting to Exhale</td>\n",
       "      <td>False</td>\n",
       "      <td>6.1</td>\n",
       "      <td>34.0</td>\n",
       "    </tr>\n",
       "    <tr>\n",
       "      <th>4</th>\n",
       "      <td>False</td>\n",
       "      <td>{'id': 96871, 'name': 'Father of the Bride Col...</td>\n",
       "      <td>0</td>\n",
       "      <td>[{'id': 35, 'name': 'Comedy'}]</td>\n",
       "      <td>NaN</td>\n",
       "      <td>11862</td>\n",
       "      <td>tt0113041</td>\n",
       "      <td>en</td>\n",
       "      <td>Father of the Bride Part II</td>\n",
       "      <td>Just when George Banks has recovered from his ...</td>\n",
       "      <td>...</td>\n",
       "      <td>1995-02-10</td>\n",
       "      <td>76578911.0</td>\n",
       "      <td>106.0</td>\n",
       "      <td>[{'iso_639_1': 'en', 'name': 'English'}]</td>\n",
       "      <td>Released</td>\n",
       "      <td>Just When His World Is Back To Normal... He's ...</td>\n",
       "      <td>Father of the Bride Part II</td>\n",
       "      <td>False</td>\n",
       "      <td>5.7</td>\n",
       "      <td>173.0</td>\n",
       "    </tr>\n",
       "  </tbody>\n",
       "</table>\n",
       "<p>5 rows × 24 columns</p>\n",
       "</div>"
      ],
      "text/plain": [
       "   adult                              belongs_to_collection    budget  \\\n",
       "0  False  {'id': 10194, 'name': 'Toy Story Collection', ...  30000000   \n",
       "1  False                                                NaN  65000000   \n",
       "2  False  {'id': 119050, 'name': 'Grumpy Old Men Collect...         0   \n",
       "3  False                                                NaN  16000000   \n",
       "4  False  {'id': 96871, 'name': 'Father of the Bride Col...         0   \n",
       "\n",
       "                                              genres  \\\n",
       "0  [{'id': 16, 'name': 'Animation'}, {'id': 35, '...   \n",
       "1  [{'id': 12, 'name': 'Adventure'}, {'id': 14, '...   \n",
       "2  [{'id': 10749, 'name': 'Romance'}, {'id': 35, ...   \n",
       "3  [{'id': 35, 'name': 'Comedy'}, {'id': 18, 'nam...   \n",
       "4                     [{'id': 35, 'name': 'Comedy'}]   \n",
       "\n",
       "                               homepage     id    imdb_id original_language  \\\n",
       "0  http://toystory.disney.com/toy-story    862  tt0114709                en   \n",
       "1                                   NaN   8844  tt0113497                en   \n",
       "2                                   NaN  15602  tt0113228                en   \n",
       "3                                   NaN  31357  tt0114885                en   \n",
       "4                                   NaN  11862  tt0113041                en   \n",
       "\n",
       "                original_title  \\\n",
       "0                    Toy Story   \n",
       "1                      Jumanji   \n",
       "2             Grumpier Old Men   \n",
       "3            Waiting to Exhale   \n",
       "4  Father of the Bride Part II   \n",
       "\n",
       "                                            overview  ... release_date  \\\n",
       "0  Led by Woody, Andy's toys live happily in his ...  ...   1995-10-30   \n",
       "1  When siblings Judy and Peter discover an encha...  ...   1995-12-15   \n",
       "2  A family wedding reignites the ancient feud be...  ...   1995-12-22   \n",
       "3  Cheated on, mistreated and stepped on, the wom...  ...   1995-12-22   \n",
       "4  Just when George Banks has recovered from his ...  ...   1995-02-10   \n",
       "\n",
       "       revenue runtime                                   spoken_languages  \\\n",
       "0  373554033.0    81.0           [{'iso_639_1': 'en', 'name': 'English'}]   \n",
       "1  262797249.0   104.0  [{'iso_639_1': 'en', 'name': 'English'}, {'iso...   \n",
       "2          0.0   101.0           [{'iso_639_1': 'en', 'name': 'English'}]   \n",
       "3   81452156.0   127.0           [{'iso_639_1': 'en', 'name': 'English'}]   \n",
       "4   76578911.0   106.0           [{'iso_639_1': 'en', 'name': 'English'}]   \n",
       "\n",
       "     status                                            tagline  \\\n",
       "0  Released                                                NaN   \n",
       "1  Released          Roll the dice and unleash the excitement!   \n",
       "2  Released  Still Yelling. Still Fighting. Still Ready for...   \n",
       "3  Released  Friends are the people who let you be yourself...   \n",
       "4  Released  Just When His World Is Back To Normal... He's ...   \n",
       "\n",
       "                         title  video vote_average vote_count  \n",
       "0                    Toy Story  False          7.7     5415.0  \n",
       "1                      Jumanji  False          6.9     2413.0  \n",
       "2             Grumpier Old Men  False          6.5       92.0  \n",
       "3            Waiting to Exhale  False          6.1       34.0  \n",
       "4  Father of the Bride Part II  False          5.7      173.0  \n",
       "\n",
       "[5 rows x 24 columns]"
      ]
     },
     "execution_count": 168,
     "metadata": {},
     "output_type": "execute_result"
    }
   ],
   "source": [
    "df.head()"
   ]
  },
  {
   "cell_type": "code",
   "execution_count": 169,
   "metadata": {
    "colab": {
     "base_uri": "https://localhost:8080/"
    },
    "execution": {
     "iopub.execute_input": "2022-08-13T19:45:56.731358Z",
     "iopub.status.busy": "2022-08-13T19:45:56.730794Z",
     "iopub.status.idle": "2022-08-13T19:45:56.799941Z",
     "shell.execute_reply": "2022-08-13T19:45:56.798921Z",
     "shell.execute_reply.started": "2022-08-13T19:45:56.731320Z"
    },
    "id": "om33-M323aj8",
    "outputId": "09281964-611d-4b59-b234-9d597ce6e07e"
   },
   "outputs": [
    {
     "name": "stdout",
     "output_type": "stream",
     "text": [
      "<class 'pandas.core.frame.DataFrame'>\n",
      "RangeIndex: 45466 entries, 0 to 45465\n",
      "Data columns (total 24 columns):\n",
      " #   Column                 Non-Null Count  Dtype  \n",
      "---  ------                 --------------  -----  \n",
      " 0   adult                  45466 non-null  object \n",
      " 1   belongs_to_collection  4494 non-null   object \n",
      " 2   budget                 45466 non-null  object \n",
      " 3   genres                 45466 non-null  object \n",
      " 4   homepage               7782 non-null   object \n",
      " 5   id                     45466 non-null  object \n",
      " 6   imdb_id                45449 non-null  object \n",
      " 7   original_language      45455 non-null  object \n",
      " 8   original_title         45466 non-null  object \n",
      " 9   overview               44512 non-null  object \n",
      " 10  popularity             45461 non-null  object \n",
      " 11  poster_path            45080 non-null  object \n",
      " 12  production_companies   45463 non-null  object \n",
      " 13  production_countries   45463 non-null  object \n",
      " 14  release_date           45379 non-null  object \n",
      " 15  revenue                45460 non-null  float64\n",
      " 16  runtime                45203 non-null  float64\n",
      " 17  spoken_languages       45460 non-null  object \n",
      " 18  status                 45379 non-null  object \n",
      " 19  tagline                20412 non-null  object \n",
      " 20  title                  45460 non-null  object \n",
      " 21  video                  45460 non-null  object \n",
      " 22  vote_average           45460 non-null  float64\n",
      " 23  vote_count             45460 non-null  float64\n",
      "dtypes: float64(4), object(20)\n",
      "memory usage: 8.3+ MB\n"
     ]
    }
   ],
   "source": [
    "df.info()"
   ]
  },
  {
   "cell_type": "markdown",
   "metadata": {
    "id": "X0_YPw-B3aj8"
   },
   "source": [
    "Let's check null values"
   ]
  },
  {
   "cell_type": "code",
   "execution_count": 170,
   "metadata": {
    "colab": {
     "base_uri": "https://localhost:8080/"
    },
    "execution": {
     "iopub.execute_input": "2022-08-13T19:45:56.803229Z",
     "iopub.status.busy": "2022-08-13T19:45:56.802491Z",
     "iopub.status.idle": "2022-08-13T19:45:56.858620Z",
     "shell.execute_reply": "2022-08-13T19:45:56.857300Z",
     "shell.execute_reply.started": "2022-08-13T19:45:56.803163Z"
    },
    "id": "nVXCCYSc3aj8",
    "outputId": "26315a5c-ca5f-4b61-948e-7ba5f0642c50"
   },
   "outputs": [
    {
     "data": {
      "text/plain": [
       "adult                        0\n",
       "belongs_to_collection    40972\n",
       "budget                       0\n",
       "genres                       0\n",
       "homepage                 37684\n",
       "id                           0\n",
       "imdb_id                     17\n",
       "original_language           11\n",
       "original_title               0\n",
       "overview                   954\n",
       "popularity                   5\n",
       "poster_path                386\n",
       "production_companies         3\n",
       "production_countries         3\n",
       "release_date                87\n",
       "revenue                      6\n",
       "runtime                    263\n",
       "spoken_languages             6\n",
       "status                      87\n",
       "tagline                  25054\n",
       "title                        6\n",
       "video                        6\n",
       "vote_average                 6\n",
       "vote_count                   6\n",
       "dtype: int64"
      ]
     },
     "execution_count": 170,
     "metadata": {},
     "output_type": "execute_result"
    }
   ],
   "source": [
    "df.isna().sum()"
   ]
  },
  {
   "cell_type": "markdown",
   "metadata": {
    "id": "zCczTIrY3aj8"
   },
   "source": [
    "# Exploratary Data Analysis & Visualizations"
   ]
  },
  {
   "cell_type": "code",
   "execution_count": 171,
   "metadata": {
    "colab": {
     "base_uri": "https://localhost:8080/",
     "height": 358
    },
    "execution": {
     "iopub.execute_input": "2022-08-13T19:45:56.860727Z",
     "iopub.status.busy": "2022-08-13T19:45:56.860255Z",
     "iopub.status.idle": "2022-08-13T19:46:15.477227Z",
     "shell.execute_reply": "2022-08-13T19:46:15.475985Z",
     "shell.execute_reply.started": "2022-08-13T19:45:56.860681Z"
    },
    "id": "iUC98yxp3aj9",
    "outputId": "58e89964-3bc5-49e9-ca96-e5d97b36f1b6"
   },
   "outputs": [],
   "source": [
    "df['genres'] = df['genres'].fillna('[]').apply(literal_eval).apply(lambda x: [i['name'] for i in x] if isinstance(x, list) else [])\n",
    "s = df.apply(lambda x: pd.Series(x['genres']),axis=1).stack().reset_index(level=1, drop=True)\n",
    "s.name = 'genre'\n",
    "gen_df = df.drop('genres', axis=1).join(s)"
   ]
  },
  {
   "cell_type": "code",
   "execution_count": 172,
   "metadata": {
    "execution": {
     "iopub.execute_input": "2022-08-13T19:46:15.480558Z",
     "iopub.status.busy": "2022-08-13T19:46:15.478826Z",
     "iopub.status.idle": "2022-08-13T19:46:16.207487Z",
     "shell.execute_reply": "2022-08-13T19:46:16.204726Z",
     "shell.execute_reply.started": "2022-08-13T19:46:15.480509Z"
    },
    "id": "fXTrcrhE3aj9"
   },
   "outputs": [
    {
     "data": {
      "image/png": "[encoded data removed]",
      "text/plain": [
       "<Figure size 1080x504 with 1 Axes>"
      ]
     },
     "metadata": {
      "needs_background": "light"
     },
     "output_type": "display_data"
    }
   ],
   "source": [
    "plt.figure(figsize = (15,7))\n",
    "sns.countplot(y =gen_df.genre)\n",
    "plt.title(\"Genres\")\n",
    "plt.tight_layout()"
   ]
  },
  {
   "cell_type": "code",
   "execution_count": 173,
   "metadata": {
    "execution": {
     "iopub.execute_input": "2022-08-13T19:46:16.209847Z",
     "iopub.status.busy": "2022-08-13T19:46:16.209170Z",
     "iopub.status.idle": "2022-08-13T19:46:18.016771Z",
     "shell.execute_reply": "2022-08-13T19:46:18.015675Z",
     "shell.execute_reply.started": "2022-08-13T19:46:16.209799Z"
    },
    "id": "a0Qf0xB63aj9"
   },
   "outputs": [
    {
     "data": {
      "image/png": "[encoded data removed]",
      "text/plain": [
       "<Figure size 576x576 with 1 Axes>"
      ]
     },
     "metadata": {
      "needs_background": "light"
     },
     "output_type": "display_data"
    }
   ],
   "source": [
    "from wordcloud import WordCloud\n",
    "import matplotlib.pyplot as plt\n",
    "\n",
    "comment_words = ''\n",
    "\n",
    " \n",
    "# iterate through the csv file\n",
    "for val in gen_df[\"genre\"]:\n",
    "     \n",
    "    # typecaste each val to string\n",
    "    val = str(val)\n",
    " \n",
    "    # split the value\n",
    "    tokens = val.split()\n",
    "     \n",
    "    # Converts each token into lowercase\n",
    "    for i in range(len(tokens)):\n",
    "        tokens[i] = tokens[i].lower()\n",
    "     \n",
    "    comment_words += \" \".join(tokens)+\" \"\n",
    " \n",
    "wordcloud = WordCloud(width = 800, height = 800,\n",
    "                background_color ='white',\n",
    "                min_font_size = 10).generate(comment_words)\n",
    " \n",
    "# plot the WordCloud image                      \n",
    "plt.figure(figsize = (8, 8), facecolor = None)\n",
    "plt.imshow(wordcloud)\n",
    "plt.axis(\"off\")\n",
    "plt.tight_layout(pad = 0)\n",
    "plt.show()"
   ]
  },
  {
   "cell_type": "code",
   "execution_count": 174,
   "metadata": {
    "colab": {
     "base_uri": "https://localhost:8080/",
     "height": 482
    },
    "execution": {
     "iopub.execute_input": "2022-08-13T19:46:18.019304Z",
     "iopub.status.busy": "2022-08-13T19:46:18.018862Z",
     "iopub.status.idle": "2022-08-13T19:46:18.329532Z",
     "shell.execute_reply": "2022-08-13T19:46:18.327894Z",
     "shell.execute_reply.started": "2022-08-13T19:46:18.019264Z"
    },
    "id": "bQad3YVT3aj-",
    "outputId": "125979cf-ccb1-4594-ef9d-9ffba5d02494"
   },
   "outputs": [
    {
     "data": {
      "image/png": "[encoded data removed]",
      "text/plain": [
       "<Figure size 576x576 with 1 Axes>"
      ]
     },
     "metadata": {},
     "output_type": "display_data"
    }
   ],
   "source": [
    "# numbers of movies released in each decade\n",
    "def count_pie(series):\n",
    "    counts=series.value_counts()\n",
    "    counts=counts/counts.sum()\n",
    "    labels=['' if num<0.01 else str(year) for (year,num) in counts.items()]\n",
    "    f, ax = plt.subplots(figsize=(8, 8))\n",
    "    explode = [0.02 if counts.iloc[i] < 100 else 0.001 for i in range(counts.size)]\n",
    "    plt.pie(counts,labels=labels,autopct=lambda x:'{:1.0f}%'.format(x) if x > 1 else '',explode=explode)\n",
    "    plt.title(\"number of movies released in each decade\")\n",
    "    plt.show()\n",
    "\n",
    "def count_decade_pie(df):\n",
    "    count_pie(df.release_date.dropna().apply(lambda x:str(int(x[:4])//10*10)+'s'))\n",
    "\n",
    "count_decade_pie(df)"
   ]
  },
  {
   "cell_type": "code",
   "execution_count": 175,
   "metadata": {
    "execution": {
     "iopub.execute_input": "2022-08-13T19:46:18.333304Z",
     "iopub.status.busy": "2022-08-13T19:46:18.332564Z",
     "iopub.status.idle": "2022-08-13T19:46:18.470433Z",
     "shell.execute_reply": "2022-08-13T19:46:18.469513Z",
     "shell.execute_reply.started": "2022-08-13T19:46:18.333234Z"
    },
    "id": "e8AjY5OB3aj-"
   },
   "outputs": [],
   "source": [
    "df2 = gen_df.groupby([\"genre\"]).sum()\n",
    "df2.reset_index(inplace=True)"
   ]
  },
  {
   "cell_type": "code",
   "execution_count": 176,
   "metadata": {},
   "outputs": [
    {
     "data": {
      "text/plain": [
       "2.787965e+09    4\n",
       "Name: revenue, dtype: int32"
      ]
     },
     "execution_count": 176,
     "metadata": {},
     "output_type": "execute_result"
    }
   ],
   "source": [
    "gen_df.loc[gen_df.original_title == \"Avatar\"].revenue.value_counts().astype(int)"
   ]
  },
  {
   "cell_type": "code",
   "execution_count": 177,
   "metadata": {
    "colab": {
     "base_uri": "https://localhost:8080/",
     "height": 672
    },
    "execution": {
     "iopub.execute_input": "2022-08-13T19:46:18.473937Z",
     "iopub.status.busy": "2022-08-13T19:46:18.473522Z",
     "iopub.status.idle": "2022-08-13T19:46:18.910913Z",
     "shell.execute_reply": "2022-08-13T19:46:18.910081Z",
     "shell.execute_reply.started": "2022-08-13T19:46:18.473898Z"
    },
    "id": "vxbwrp7I3aj_",
    "outputId": "00dcce4c-f147-4dc7-f11c-0889f670e0d1"
   },
   "outputs": [
    {
     "data": {
      "text/plain": [
       "Text(0.5, 1.0, 'Vote Average vs Genres')"
      ]
     },
     "execution_count": 177,
     "metadata": {},
     "output_type": "execute_result"
    },
    {
     "data": {
      "image/png": "[encoded data removed]",
      "text/plain": [
       "<Figure size 1080x504 with 1 Axes>"
      ]
     },
     "metadata": {
      "needs_background": "light"
     },
     "output_type": "display_data"
    }
   ],
   "source": [
    "import matplotlib.pyplot as plt\n",
    "plt.figure(figsize = (15,7))\n",
    "sns.barplot(x=\"genre\", y='vote_average', data=df2, ci = None, palette = \"viridis\")\n",
    "plt.xticks(rotation='vertical')\n",
    "plt.title(\"Vote Average vs Genres\")"
   ]
  },
  {
   "cell_type": "code",
   "execution_count": 178,
   "metadata": {
    "colab": {
     "base_uri": "https://localhost:8080/",
     "height": 672
    },
    "execution": {
     "iopub.execute_input": "2022-08-13T19:46:18.913015Z",
     "iopub.status.busy": "2022-08-13T19:46:18.912410Z",
     "iopub.status.idle": "2022-08-13T19:46:19.353768Z",
     "shell.execute_reply": "2022-08-13T19:46:19.352942Z",
     "shell.execute_reply.started": "2022-08-13T19:46:18.912980Z"
    },
    "id": "GEVmpArY3aj_",
    "outputId": "2b8dc026-2414-4825-9188-e0e7fdba8de0"
   },
   "outputs": [
    {
     "data": {
      "text/plain": [
       "Text(0.5, 1.0, 'Revenue total per each genres')"
      ]
     },
     "execution_count": 178,
     "metadata": {},
     "output_type": "execute_result"
    },
    {
     "data": {
      "image/png": "[encoded data removed]",
      "text/plain": [
       "<Figure size 1080x504 with 1 Axes>"
      ]
     },
     "metadata": {
      "needs_background": "light"
     },
     "output_type": "display_data"
    }
   ],
   "source": [
    "import matplotlib.pyplot as plt\n",
    "plt.figure(figsize = (15,7))\n",
    "sns.barplot(x=\"genre\", y='revenue', data=df2, ci = None, palette = \"viridis\")\n",
    "plt.xticks(rotation='vertical')\n",
    "plt.title(\"Revenue total per each genres\")"
   ]
  },
  {
   "cell_type": "code",
   "execution_count": 179,
   "metadata": {
    "execution": {
     "iopub.execute_input": "2022-08-13T19:46:19.355966Z",
     "iopub.status.busy": "2022-08-13T19:46:19.355145Z",
     "iopub.status.idle": "2022-08-13T19:46:19.389263Z",
     "shell.execute_reply": "2022-08-13T19:46:19.388159Z",
     "shell.execute_reply.started": "2022-08-13T19:46:19.355931Z"
    },
    "id": "Yue5UoEM3aj_"
   },
   "outputs": [],
   "source": [
    "temp_df = gen_df[[\"title\", \"revenue\"]]\n",
    "temp_df = temp_df.drop_duplicates()"
   ]
  },
  {
   "cell_type": "code",
   "execution_count": 180,
   "metadata": {
    "colab": {
     "base_uri": "https://localhost:8080/",
     "height": 204
    },
    "execution": {
     "iopub.execute_input": "2022-08-13T19:46:19.391771Z",
     "iopub.status.busy": "2022-08-13T19:46:19.391378Z",
     "iopub.status.idle": "2022-08-13T19:46:19.403563Z",
     "shell.execute_reply": "2022-08-13T19:46:19.402527Z",
     "shell.execute_reply.started": "2022-08-13T19:46:19.391736Z"
    },
    "id": "ocnSghYl3aj_",
    "outputId": "5a02a360-e4cc-4e83-b404-11648636a527"
   },
   "outputs": [
    {
     "data": {
      "text/html": [
       "<div>\n",
       "<style scoped>\n",
       "    .dataframe tbody tr th:only-of-type {\n",
       "        vertical-align: middle;\n",
       "    }\n",
       "\n",
       "    .dataframe tbody tr th {\n",
       "        vertical-align: top;\n",
       "    }\n",
       "\n",
       "    .dataframe thead th {\n",
       "        text-align: right;\n",
       "    }\n",
       "</style>\n",
       "<table border=\"1\" class=\"dataframe\">\n",
       "  <thead>\n",
       "    <tr style=\"text-align: right;\">\n",
       "      <th></th>\n",
       "      <th>title</th>\n",
       "      <th>revenue</th>\n",
       "    </tr>\n",
       "  </thead>\n",
       "  <tbody>\n",
       "    <tr>\n",
       "      <th>0</th>\n",
       "      <td>Toy Story</td>\n",
       "      <td>373554033.0</td>\n",
       "    </tr>\n",
       "    <tr>\n",
       "      <th>1</th>\n",
       "      <td>Jumanji</td>\n",
       "      <td>262797249.0</td>\n",
       "    </tr>\n",
       "    <tr>\n",
       "      <th>2</th>\n",
       "      <td>Grumpier Old Men</td>\n",
       "      <td>0.0</td>\n",
       "    </tr>\n",
       "    <tr>\n",
       "      <th>3</th>\n",
       "      <td>Waiting to Exhale</td>\n",
       "      <td>81452156.0</td>\n",
       "    </tr>\n",
       "    <tr>\n",
       "      <th>4</th>\n",
       "      <td>Father of the Bride Part II</td>\n",
       "      <td>76578911.0</td>\n",
       "    </tr>\n",
       "  </tbody>\n",
       "</table>\n",
       "</div>"
      ],
      "text/plain": [
       "                         title      revenue\n",
       "0                    Toy Story  373554033.0\n",
       "1                      Jumanji  262797249.0\n",
       "2             Grumpier Old Men          0.0\n",
       "3            Waiting to Exhale   81452156.0\n",
       "4  Father of the Bride Part II   76578911.0"
      ]
     },
     "execution_count": 180,
     "metadata": {},
     "output_type": "execute_result"
    }
   ],
   "source": [
    "temp_df.head()"
   ]
  },
  {
   "cell_type": "code",
   "execution_count": 181,
   "metadata": {
    "colab": {
     "base_uri": "https://localhost:8080/",
     "height": 669
    },
    "execution": {
     "iopub.execute_input": "2022-08-13T19:46:19.405492Z",
     "iopub.status.busy": "2022-08-13T19:46:19.405093Z",
     "iopub.status.idle": "2022-08-13T19:46:19.431570Z",
     "shell.execute_reply": "2022-08-13T19:46:19.430641Z",
     "shell.execute_reply.started": "2022-08-13T19:46:19.405454Z"
    },
    "id": "SvTd1wVQ3akA",
    "outputId": "6d2a76eb-a368-4dd7-c91c-04d6d144669f"
   },
   "outputs": [
    {
     "data": {
      "text/html": [
       "<div>\n",
       "<style scoped>\n",
       "    .dataframe tbody tr th:only-of-type {\n",
       "        vertical-align: middle;\n",
       "    }\n",
       "\n",
       "    .dataframe tbody tr th {\n",
       "        vertical-align: top;\n",
       "    }\n",
       "\n",
       "    .dataframe thead th {\n",
       "        text-align: right;\n",
       "    }\n",
       "</style>\n",
       "<table border=\"1\" class=\"dataframe\">\n",
       "  <thead>\n",
       "    <tr style=\"text-align: right;\">\n",
       "      <th></th>\n",
       "      <th>title</th>\n",
       "      <th>revenue</th>\n",
       "    </tr>\n",
       "  </thead>\n",
       "  <tbody>\n",
       "    <tr>\n",
       "      <th>14551</th>\n",
       "      <td>Avatar</td>\n",
       "      <td>2.787965e+09</td>\n",
       "    </tr>\n",
       "    <tr>\n",
       "      <th>26555</th>\n",
       "      <td>Star Wars: The Force Awakens</td>\n",
       "      <td>2.068224e+09</td>\n",
       "    </tr>\n",
       "    <tr>\n",
       "      <th>1639</th>\n",
       "      <td>Titanic</td>\n",
       "      <td>1.845034e+09</td>\n",
       "    </tr>\n",
       "    <tr>\n",
       "      <th>17818</th>\n",
       "      <td>The Avengers</td>\n",
       "      <td>1.519558e+09</td>\n",
       "    </tr>\n",
       "    <tr>\n",
       "      <th>25084</th>\n",
       "      <td>Jurassic World</td>\n",
       "      <td>1.513529e+09</td>\n",
       "    </tr>\n",
       "    <tr>\n",
       "      <th>28830</th>\n",
       "      <td>Furious 7</td>\n",
       "      <td>1.506249e+09</td>\n",
       "    </tr>\n",
       "    <tr>\n",
       "      <th>26558</th>\n",
       "      <td>Avengers: Age of Ultron</td>\n",
       "      <td>1.405404e+09</td>\n",
       "    </tr>\n",
       "    <tr>\n",
       "      <th>17437</th>\n",
       "      <td>Harry Potter and the Deathly Hallows: Part 2</td>\n",
       "      <td>1.342000e+09</td>\n",
       "    </tr>\n",
       "    <tr>\n",
       "      <th>22110</th>\n",
       "      <td>Frozen</td>\n",
       "      <td>1.274219e+09</td>\n",
       "    </tr>\n",
       "    <tr>\n",
       "      <th>42222</th>\n",
       "      <td>Beauty and the Beast</td>\n",
       "      <td>1.262886e+09</td>\n",
       "    </tr>\n",
       "    <tr>\n",
       "      <th>43255</th>\n",
       "      <td>The Fate of the Furious</td>\n",
       "      <td>1.238765e+09</td>\n",
       "    </tr>\n",
       "    <tr>\n",
       "      <th>20830</th>\n",
       "      <td>Iron Man 3</td>\n",
       "      <td>1.215440e+09</td>\n",
       "    </tr>\n",
       "    <tr>\n",
       "      <th>30700</th>\n",
       "      <td>Minions</td>\n",
       "      <td>1.156731e+09</td>\n",
       "    </tr>\n",
       "    <tr>\n",
       "      <th>26567</th>\n",
       "      <td>Captain America: Civil War</td>\n",
       "      <td>1.153304e+09</td>\n",
       "    </tr>\n",
       "    <tr>\n",
       "      <th>17293</th>\n",
       "      <td>Transformers: Dark of the Moon</td>\n",
       "      <td>1.123747e+09</td>\n",
       "    </tr>\n",
       "    <tr>\n",
       "      <th>7000</th>\n",
       "      <td>The Lord of the Rings: The Return of the King</td>\n",
       "      <td>1.118889e+09</td>\n",
       "    </tr>\n",
       "    <tr>\n",
       "      <th>19261</th>\n",
       "      <td>Skyfall</td>\n",
       "      <td>1.108561e+09</td>\n",
       "    </tr>\n",
       "    <tr>\n",
       "      <th>23617</th>\n",
       "      <td>Transformers: Age of Extinction</td>\n",
       "      <td>1.091405e+09</td>\n",
       "    </tr>\n",
       "    <tr>\n",
       "      <th>18252</th>\n",
       "      <td>The Dark Knight Rises</td>\n",
       "      <td>1.084939e+09</td>\n",
       "    </tr>\n",
       "    <tr>\n",
       "      <th>15348</th>\n",
       "      <td>Toy Story 3</td>\n",
       "      <td>1.066970e+09</td>\n",
       "    </tr>\n",
       "  </tbody>\n",
       "</table>\n",
       "</div>"
      ],
      "text/plain": [
       "                                               title       revenue\n",
       "14551                                         Avatar  2.787965e+09\n",
       "26555                   Star Wars: The Force Awakens  2.068224e+09\n",
       "1639                                         Titanic  1.845034e+09\n",
       "17818                                   The Avengers  1.519558e+09\n",
       "25084                                 Jurassic World  1.513529e+09\n",
       "28830                                      Furious 7  1.506249e+09\n",
       "26558                        Avengers: Age of Ultron  1.405404e+09\n",
       "17437   Harry Potter and the Deathly Hallows: Part 2  1.342000e+09\n",
       "22110                                         Frozen  1.274219e+09\n",
       "42222                           Beauty and the Beast  1.262886e+09\n",
       "43255                        The Fate of the Furious  1.238765e+09\n",
       "20830                                     Iron Man 3  1.215440e+09\n",
       "30700                                        Minions  1.156731e+09\n",
       "26567                     Captain America: Civil War  1.153304e+09\n",
       "17293                 Transformers: Dark of the Moon  1.123747e+09\n",
       "7000   The Lord of the Rings: The Return of the King  1.118889e+09\n",
       "19261                                        Skyfall  1.108561e+09\n",
       "23617                Transformers: Age of Extinction  1.091405e+09\n",
       "18252                          The Dark Knight Rises  1.084939e+09\n",
       "15348                                    Toy Story 3  1.066970e+09"
      ]
     },
     "execution_count": 181,
     "metadata": {},
     "output_type": "execute_result"
    }
   ],
   "source": [
    "\n",
    "temp_df = temp_df.sort_values(by='revenue', ascending=False)\n",
    "temp_df = temp_df[[\"title\", 'revenue']][:20]\n",
    "#temp_df.revenue = temp_df.revenue.astype(int)\n",
    "temp_df"
   ]
  },
  {
   "cell_type": "code",
   "execution_count": 182,
   "metadata": {
    "colab": {
     "base_uri": "https://localhost:8080/",
     "height": 481
    },
    "execution": {
     "iopub.execute_input": "2022-08-13T19:46:19.433574Z",
     "iopub.status.busy": "2022-08-13T19:46:19.432848Z",
     "iopub.status.idle": "2022-08-13T19:46:19.778183Z",
     "shell.execute_reply": "2022-08-13T19:46:19.777439Z",
     "shell.execute_reply.started": "2022-08-13T19:46:19.433513Z"
    },
    "id": "rRyXWs2n3akA",
    "outputId": "086faf85-154b-40d3-ebc6-455bc1d0c426"
   },
   "outputs": [
    {
     "data": {
      "text/plain": [
       "Text(0.5, 1.0, 'Highest Revenues')"
      ]
     },
     "execution_count": 182,
     "metadata": {},
     "output_type": "execute_result"
    },
    {
     "data": {
      "image/png": "[encoded data removed]",
      "text/plain": [
       "<Figure size 1080x504 with 1 Axes>"
      ]
     },
     "metadata": {
      "needs_background": "light"
     },
     "output_type": "display_data"
    }
   ],
   "source": [
    "plt.figure(figsize = (15,7))\n",
    "sns.barplot(x=\"revenue\", y='title', data=temp_df,ci = None, palette = \"Accent\")\n",
    "plt.xticks(rotation='vertical')\n",
    "plt.title(\"Highest Revenues\")"
   ]
  },
  {
   "cell_type": "markdown",
   "metadata": {
    "id": "xukruuGH3akA"
   },
   "source": [
    "### Let's start!"
   ]
  },
  {
   "cell_type": "code",
   "execution_count": 183,
   "metadata": {
    "execution": {
     "iopub.execute_input": "2022-08-13T19:46:19.780428Z",
     "iopub.status.busy": "2022-08-13T19:46:19.779479Z",
     "iopub.status.idle": "2022-08-13T19:46:20.537392Z",
     "shell.execute_reply": "2022-08-13T19:46:20.536450Z",
     "shell.execute_reply.started": "2022-08-13T19:46:19.780392Z"
    },
    "id": "_gcQBdeU3akA"
   },
   "outputs": [],
   "source": [
    "df = pd.read_csv(\"C://Users/milin/Documents/AI_ML/CApstone Project/movies_metadata.csv\")"
   ]
  },
  {
   "cell_type": "markdown",
   "metadata": {
    "id": "M1ZL-orn3akA"
   },
   "source": [
    "#### Let's get rid of the films who have under 100 votes."
   ]
  },
  {
   "cell_type": "code",
   "execution_count": 184,
   "metadata": {
    "execution": {
     "iopub.execute_input": "2022-08-13T19:46:20.539490Z",
     "iopub.status.busy": "2022-08-13T19:46:20.538777Z",
     "iopub.status.idle": "2022-08-13T19:46:20.565023Z",
     "shell.execute_reply": "2022-08-13T19:46:20.564196Z",
     "shell.execute_reply.started": "2022-08-13T19:46:20.539453Z"
    },
    "id": "bP-NUa-j3akA"
   },
   "outputs": [],
   "source": [
    "df = df[df['vote_count']>=100]"
   ]
  },
  {
   "cell_type": "code",
   "execution_count": 185,
   "metadata": {
    "execution": {
     "iopub.execute_input": "2022-08-13T19:46:20.567663Z",
     "iopub.status.busy": "2022-08-13T19:46:20.567278Z",
     "iopub.status.idle": "2022-08-13T19:46:20.575912Z",
     "shell.execute_reply": "2022-08-13T19:46:20.575037Z",
     "shell.execute_reply.started": "2022-08-13T19:46:20.567627Z"
    },
    "id": "TbxCcxT63akB"
   },
   "outputs": [],
   "source": [
    "# we will use overview & genres features from metadata\n",
    "df = df[['id','original_title','overview','genres']]"
   ]
  },
  {
   "cell_type": "code",
   "execution_count": 186,
   "metadata": {
    "execution": {
     "iopub.execute_input": "2022-08-13T19:46:20.577599Z",
     "iopub.status.busy": "2022-08-13T19:46:20.577252Z",
     "iopub.status.idle": "2022-08-13T19:46:20.591470Z",
     "shell.execute_reply": "2022-08-13T19:46:20.590351Z",
     "shell.execute_reply.started": "2022-08-13T19:46:20.577567Z"
    },
    "id": "PSx0MZvB3akB"
   },
   "outputs": [],
   "source": [
    "# Creating a duplicate column, in case if its needed.\n",
    "df['title'] = df['original_title'].copy()"
   ]
  },
  {
   "cell_type": "code",
   "execution_count": 187,
   "metadata": {
    "execution": {
     "iopub.execute_input": "2022-08-13T19:46:20.593392Z",
     "iopub.status.busy": "2022-08-13T19:46:20.592692Z",
     "iopub.status.idle": "2022-08-13T19:46:20.610571Z",
     "shell.execute_reply": "2022-08-13T19:46:20.609533Z",
     "shell.execute_reply.started": "2022-08-13T19:46:20.593353Z"
    },
    "id": "f2CdyOGO3akB"
   },
   "outputs": [
    {
     "data": {
      "text/html": [
       "<div>\n",
       "<style scoped>\n",
       "    .dataframe tbody tr th:only-of-type {\n",
       "        vertical-align: middle;\n",
       "    }\n",
       "\n",
       "    .dataframe tbody tr th {\n",
       "        vertical-align: top;\n",
       "    }\n",
       "\n",
       "    .dataframe thead th {\n",
       "        text-align: right;\n",
       "    }\n",
       "</style>\n",
       "<table border=\"1\" class=\"dataframe\">\n",
       "  <thead>\n",
       "    <tr style=\"text-align: right;\">\n",
       "      <th></th>\n",
       "      <th>id</th>\n",
       "      <th>original_title</th>\n",
       "      <th>overview</th>\n",
       "      <th>genres</th>\n",
       "      <th>title</th>\n",
       "    </tr>\n",
       "  </thead>\n",
       "  <tbody>\n",
       "    <tr>\n",
       "      <th>0</th>\n",
       "      <td>862</td>\n",
       "      <td>Toy Story</td>\n",
       "      <td>Led by Woody, Andy's toys live happily in his ...</td>\n",
       "      <td>[{'id': 16, 'name': 'Animation'}, {'id': 35, '...</td>\n",
       "      <td>Toy Story</td>\n",
       "    </tr>\n",
       "    <tr>\n",
       "      <th>1</th>\n",
       "      <td>8844</td>\n",
       "      <td>Jumanji</td>\n",
       "      <td>When siblings Judy and Peter discover an encha...</td>\n",
       "      <td>[{'id': 12, 'name': 'Adventure'}, {'id': 14, '...</td>\n",
       "      <td>Jumanji</td>\n",
       "    </tr>\n",
       "    <tr>\n",
       "      <th>2</th>\n",
       "      <td>11862</td>\n",
       "      <td>Father of the Bride Part II</td>\n",
       "      <td>Just when George Banks has recovered from his ...</td>\n",
       "      <td>[{'id': 35, 'name': 'Comedy'}]</td>\n",
       "      <td>Father of the Bride Part II</td>\n",
       "    </tr>\n",
       "    <tr>\n",
       "      <th>3</th>\n",
       "      <td>949</td>\n",
       "      <td>Heat</td>\n",
       "      <td>Obsessive master thief, Neil McCauley leads a ...</td>\n",
       "      <td>[{'id': 28, 'name': 'Action'}, {'id': 80, 'nam...</td>\n",
       "      <td>Heat</td>\n",
       "    </tr>\n",
       "    <tr>\n",
       "      <th>4</th>\n",
       "      <td>11860</td>\n",
       "      <td>Sabrina</td>\n",
       "      <td>An ugly duckling having undergone a remarkable...</td>\n",
       "      <td>[{'id': 35, 'name': 'Comedy'}, {'id': 10749, '...</td>\n",
       "      <td>Sabrina</td>\n",
       "    </tr>\n",
       "  </tbody>\n",
       "</table>\n",
       "</div>"
      ],
      "text/plain": [
       "      id               original_title  \\\n",
       "0    862                    Toy Story   \n",
       "1   8844                      Jumanji   \n",
       "2  11862  Father of the Bride Part II   \n",
       "3    949                         Heat   \n",
       "4  11860                      Sabrina   \n",
       "\n",
       "                                            overview  \\\n",
       "0  Led by Woody, Andy's toys live happily in his ...   \n",
       "1  When siblings Judy and Peter discover an encha...   \n",
       "2  Just when George Banks has recovered from his ...   \n",
       "3  Obsessive master thief, Neil McCauley leads a ...   \n",
       "4  An ugly duckling having undergone a remarkable...   \n",
       "\n",
       "                                              genres  \\\n",
       "0  [{'id': 16, 'name': 'Animation'}, {'id': 35, '...   \n",
       "1  [{'id': 12, 'name': 'Adventure'}, {'id': 14, '...   \n",
       "2                     [{'id': 35, 'name': 'Comedy'}]   \n",
       "3  [{'id': 28, 'name': 'Action'}, {'id': 80, 'nam...   \n",
       "4  [{'id': 35, 'name': 'Comedy'}, {'id': 10749, '...   \n",
       "\n",
       "                         title  \n",
       "0                    Toy Story  \n",
       "1                      Jumanji  \n",
       "2  Father of the Bride Part II  \n",
       "3                         Heat  \n",
       "4                      Sabrina  "
      ]
     },
     "execution_count": 187,
     "metadata": {},
     "output_type": "execute_result"
    }
   ],
   "source": [
    "df.reset_index(inplace=True, drop=True)\n",
    "df.head()"
   ]
  },
  {
   "cell_type": "code",
   "execution_count": 188,
   "metadata": {
    "execution": {
     "iopub.execute_input": "2022-08-13T19:46:20.612482Z",
     "iopub.status.busy": "2022-08-13T19:46:20.611613Z",
     "iopub.status.idle": "2022-08-13T19:46:20.621074Z",
     "shell.execute_reply": "2022-08-13T19:46:20.620412Z",
     "shell.execute_reply.started": "2022-08-13T19:46:20.612448Z"
    },
    "id": "x_lia9Er3akB"
   },
   "outputs": [
    {
     "data": {
      "text/html": [
       "<div>\n",
       "<style scoped>\n",
       "    .dataframe tbody tr th:only-of-type {\n",
       "        vertical-align: middle;\n",
       "    }\n",
       "\n",
       "    .dataframe tbody tr th {\n",
       "        vertical-align: top;\n",
       "    }\n",
       "\n",
       "    .dataframe thead th {\n",
       "        text-align: right;\n",
       "    }\n",
       "</style>\n",
       "<table border=\"1\" class=\"dataframe\">\n",
       "  <thead>\n",
       "    <tr style=\"text-align: right;\">\n",
       "      <th></th>\n",
       "      <th>id</th>\n",
       "      <th>keywords</th>\n",
       "    </tr>\n",
       "  </thead>\n",
       "  <tbody>\n",
       "    <tr>\n",
       "      <th>0</th>\n",
       "      <td>862</td>\n",
       "      <td>[{'id': 931, 'name': 'jealousy'}, {'id': 4290,...</td>\n",
       "    </tr>\n",
       "    <tr>\n",
       "      <th>1</th>\n",
       "      <td>8844</td>\n",
       "      <td>[{'id': 10090, 'name': 'board game'}, {'id': 1...</td>\n",
       "    </tr>\n",
       "    <tr>\n",
       "      <th>2</th>\n",
       "      <td>15602</td>\n",
       "      <td>[{'id': 1495, 'name': 'fishing'}, {'id': 12392...</td>\n",
       "    </tr>\n",
       "    <tr>\n",
       "      <th>3</th>\n",
       "      <td>31357</td>\n",
       "      <td>[{'id': 818, 'name': 'based on novel'}, {'id':...</td>\n",
       "    </tr>\n",
       "    <tr>\n",
       "      <th>4</th>\n",
       "      <td>11862</td>\n",
       "      <td>[{'id': 1009, 'name': 'baby'}, {'id': 1599, 'n...</td>\n",
       "    </tr>\n",
       "  </tbody>\n",
       "</table>\n",
       "</div>"
      ],
      "text/plain": [
       "      id                                           keywords\n",
       "0    862  [{'id': 931, 'name': 'jealousy'}, {'id': 4290,...\n",
       "1   8844  [{'id': 10090, 'name': 'board game'}, {'id': 1...\n",
       "2  15602  [{'id': 1495, 'name': 'fishing'}, {'id': 12392...\n",
       "3  31357  [{'id': 818, 'name': 'based on novel'}, {'id':...\n",
       "4  11862  [{'id': 1009, 'name': 'baby'}, {'id': 1599, 'n..."
      ]
     },
     "execution_count": 188,
     "metadata": {},
     "output_type": "execute_result"
    }
   ],
   "source": [
    "keywords.head()"
   ]
  },
  {
   "cell_type": "code",
   "execution_count": 189,
   "metadata": {
    "execution": {
     "iopub.execute_input": "2022-08-13T19:46:20.622652Z",
     "iopub.status.busy": "2022-08-13T19:46:20.622162Z",
     "iopub.status.idle": "2022-08-13T19:46:20.640465Z",
     "shell.execute_reply": "2022-08-13T19:46:20.639729Z",
     "shell.execute_reply.started": "2022-08-13T19:46:20.622622Z"
    },
    "id": "2nvC_zVw3akB"
   },
   "outputs": [
    {
     "data": {
      "text/html": [
       "<div>\n",
       "<style scoped>\n",
       "    .dataframe tbody tr th:only-of-type {\n",
       "        vertical-align: middle;\n",
       "    }\n",
       "\n",
       "    .dataframe tbody tr th {\n",
       "        vertical-align: top;\n",
       "    }\n",
       "\n",
       "    .dataframe thead th {\n",
       "        text-align: right;\n",
       "    }\n",
       "</style>\n",
       "<table border=\"1\" class=\"dataframe\">\n",
       "  <thead>\n",
       "    <tr style=\"text-align: right;\">\n",
       "      <th></th>\n",
       "      <th>cast</th>\n",
       "      <th>crew</th>\n",
       "      <th>id</th>\n",
       "    </tr>\n",
       "  </thead>\n",
       "  <tbody>\n",
       "    <tr>\n",
       "      <th>0</th>\n",
       "      <td>[{'cast_id': 14, 'character': 'Woody (voice)',...</td>\n",
       "      <td>[{'credit_id': '52fe4284c3a36847f8024f49', 'de...</td>\n",
       "      <td>862</td>\n",
       "    </tr>\n",
       "    <tr>\n",
       "      <th>1</th>\n",
       "      <td>[{'cast_id': 1, 'character': 'Alan Parrish', '...</td>\n",
       "      <td>[{'credit_id': '52fe44bfc3a36847f80a7cd1', 'de...</td>\n",
       "      <td>8844</td>\n",
       "    </tr>\n",
       "    <tr>\n",
       "      <th>2</th>\n",
       "      <td>[{'cast_id': 2, 'character': 'Max Goldman', 'c...</td>\n",
       "      <td>[{'credit_id': '52fe466a9251416c75077a89', 'de...</td>\n",
       "      <td>15602</td>\n",
       "    </tr>\n",
       "    <tr>\n",
       "      <th>3</th>\n",
       "      <td>[{'cast_id': 1, 'character': \"Savannah 'Vannah...</td>\n",
       "      <td>[{'credit_id': '52fe44779251416c91011acb', 'de...</td>\n",
       "      <td>31357</td>\n",
       "    </tr>\n",
       "    <tr>\n",
       "      <th>4</th>\n",
       "      <td>[{'cast_id': 1, 'character': 'George Banks', '...</td>\n",
       "      <td>[{'credit_id': '52fe44959251416c75039ed7', 'de...</td>\n",
       "      <td>11862</td>\n",
       "    </tr>\n",
       "  </tbody>\n",
       "</table>\n",
       "</div>"
      ],
      "text/plain": [
       "                                                cast  \\\n",
       "0  [{'cast_id': 14, 'character': 'Woody (voice)',...   \n",
       "1  [{'cast_id': 1, 'character': 'Alan Parrish', '...   \n",
       "2  [{'cast_id': 2, 'character': 'Max Goldman', 'c...   \n",
       "3  [{'cast_id': 1, 'character': \"Savannah 'Vannah...   \n",
       "4  [{'cast_id': 1, 'character': 'George Banks', '...   \n",
       "\n",
       "                                                crew     id  \n",
       "0  [{'credit_id': '52fe4284c3a36847f8024f49', 'de...    862  \n",
       "1  [{'credit_id': '52fe44bfc3a36847f80a7cd1', 'de...   8844  \n",
       "2  [{'credit_id': '52fe466a9251416c75077a89', 'de...  15602  \n",
       "3  [{'credit_id': '52fe44779251416c91011acb', 'de...  31357  \n",
       "4  [{'credit_id': '52fe44959251416c75039ed7', 'de...  11862  "
      ]
     },
     "execution_count": 189,
     "metadata": {},
     "output_type": "execute_result"
    }
   ],
   "source": [
    "credits.head()"
   ]
  },
  {
   "cell_type": "markdown",
   "metadata": {
    "id": "qaulfWNG3akC"
   },
   "source": [
    "#### We will use cast and id from credits data."
   ]
  },
  {
   "cell_type": "code",
   "execution_count": 190,
   "metadata": {
    "execution": {
     "iopub.execute_input": "2022-08-13T19:46:20.642223Z",
     "iopub.status.busy": "2022-08-13T19:46:20.641700Z",
     "iopub.status.idle": "2022-08-13T19:46:20.655046Z",
     "shell.execute_reply": "2022-08-13T19:46:20.654285Z",
     "shell.execute_reply.started": "2022-08-13T19:46:20.642171Z"
    },
    "id": "2uFjD4Ys3akC"
   },
   "outputs": [],
   "source": [
    "credits = credits[['id','cast']]"
   ]
  },
  {
   "cell_type": "markdown",
   "metadata": {
    "id": "shIAZ71j3akC"
   },
   "source": [
    "### **Data Cleaning & Preprocessing**"
   ]
  },
  {
   "cell_type": "code",
   "execution_count": 191,
   "metadata": {
    "execution": {
     "iopub.execute_input": "2022-08-13T19:46:20.656900Z",
     "iopub.status.busy": "2022-08-13T19:46:20.656475Z",
     "iopub.status.idle": "2022-08-13T19:46:20.672312Z",
     "shell.execute_reply": "2022-08-13T19:46:20.671147Z",
     "shell.execute_reply.started": "2022-08-13T19:46:20.656855Z"
    },
    "id": "eA0UZCqI3akC"
   },
   "outputs": [],
   "source": [
    "# Removing nan records\n",
    "df = df[df['id'].str.isnumeric()]"
   ]
  },
  {
   "cell_type": "markdown",
   "metadata": {
    "id": "_HocxRuv3akD"
   },
   "source": [
    "#### Merge dataframes into one single dataframe"
   ]
  },
  {
   "cell_type": "code",
   "execution_count": 192,
   "metadata": {
    "execution": {
     "iopub.execute_input": "2022-08-13T19:46:20.674675Z",
     "iopub.status.busy": "2022-08-13T19:46:20.673886Z",
     "iopub.status.idle": "2022-08-13T19:46:20.701183Z",
     "shell.execute_reply": "2022-08-13T19:46:20.700096Z",
     "shell.execute_reply.started": "2022-08-13T19:46:20.674626Z"
    },
    "id": "_JgB13d73akE"
   },
   "outputs": [],
   "source": [
    "# Merge all dataframe as a single dataframe\n",
    "# To merge the ids must be of same type\n",
    "df['id'] = df['id'].astype(int)\n",
    "\n",
    "# Merge\n",
    "df = pd.merge(keywords, df, on='id', how='right')\n",
    "\n",
    "# Reset the index\n",
    "df.reset_index(inplace=True, drop=True)"
   ]
  },
  {
   "cell_type": "code",
   "execution_count": 193,
   "metadata": {
    "execution": {
     "iopub.execute_input": "2022-08-13T19:46:20.704159Z",
     "iopub.status.busy": "2022-08-13T19:46:20.703118Z",
     "iopub.status.idle": "2022-08-13T19:46:20.728924Z",
     "shell.execute_reply": "2022-08-13T19:46:20.727791Z",
     "shell.execute_reply.started": "2022-08-13T19:46:20.704110Z"
    },
    "id": "mB7Pnsdv3akE"
   },
   "outputs": [],
   "source": [
    "# Merge with movie credits\n",
    "df = pd.merge(df, credits, on='id', how='left')\n",
    "\n",
    "\n",
    "# Reset the index\n",
    "df.reset_index(inplace=True, drop=True)"
   ]
  },
  {
   "cell_type": "code",
   "execution_count": 194,
   "metadata": {
    "execution": {
     "iopub.execute_input": "2022-08-13T19:46:20.730597Z",
     "iopub.status.busy": "2022-08-13T19:46:20.730237Z",
     "iopub.status.idle": "2022-08-13T19:46:20.746515Z",
     "shell.execute_reply": "2022-08-13T19:46:20.745507Z",
     "shell.execute_reply.started": "2022-08-13T19:46:20.730566Z"
    },
    "id": "kYGWIhsH3akF"
   },
   "outputs": [
    {
     "data": {
      "text/html": [
       "<div>\n",
       "<style scoped>\n",
       "    .dataframe tbody tr th:only-of-type {\n",
       "        vertical-align: middle;\n",
       "    }\n",
       "\n",
       "    .dataframe tbody tr th {\n",
       "        vertical-align: top;\n",
       "    }\n",
       "\n",
       "    .dataframe thead th {\n",
       "        text-align: right;\n",
       "    }\n",
       "</style>\n",
       "<table border=\"1\" class=\"dataframe\">\n",
       "  <thead>\n",
       "    <tr style=\"text-align: right;\">\n",
       "      <th></th>\n",
       "      <th>id</th>\n",
       "      <th>keywords</th>\n",
       "      <th>original_title</th>\n",
       "      <th>overview</th>\n",
       "      <th>genres</th>\n",
       "      <th>title</th>\n",
       "      <th>cast</th>\n",
       "    </tr>\n",
       "  </thead>\n",
       "  <tbody>\n",
       "    <tr>\n",
       "      <th>0</th>\n",
       "      <td>862</td>\n",
       "      <td>[{'id': 931, 'name': 'jealousy'}, {'id': 4290,...</td>\n",
       "      <td>Toy Story</td>\n",
       "      <td>Led by Woody, Andy's toys live happily in his ...</td>\n",
       "      <td>[{'id': 16, 'name': 'Animation'}, {'id': 35, '...</td>\n",
       "      <td>Toy Story</td>\n",
       "      <td>[{'cast_id': 14, 'character': 'Woody (voice)',...</td>\n",
       "    </tr>\n",
       "    <tr>\n",
       "      <th>1</th>\n",
       "      <td>8844</td>\n",
       "      <td>[{'id': 10090, 'name': 'board game'}, {'id': 1...</td>\n",
       "      <td>Jumanji</td>\n",
       "      <td>When siblings Judy and Peter discover an encha...</td>\n",
       "      <td>[{'id': 12, 'name': 'Adventure'}, {'id': 14, '...</td>\n",
       "      <td>Jumanji</td>\n",
       "      <td>[{'cast_id': 1, 'character': 'Alan Parrish', '...</td>\n",
       "    </tr>\n",
       "    <tr>\n",
       "      <th>2</th>\n",
       "      <td>11862</td>\n",
       "      <td>[{'id': 1009, 'name': 'baby'}, {'id': 1599, 'n...</td>\n",
       "      <td>Father of the Bride Part II</td>\n",
       "      <td>Just when George Banks has recovered from his ...</td>\n",
       "      <td>[{'id': 35, 'name': 'Comedy'}]</td>\n",
       "      <td>Father of the Bride Part II</td>\n",
       "      <td>[{'cast_id': 1, 'character': 'George Banks', '...</td>\n",
       "    </tr>\n",
       "    <tr>\n",
       "      <th>3</th>\n",
       "      <td>949</td>\n",
       "      <td>[{'id': 642, 'name': 'robbery'}, {'id': 703, '...</td>\n",
       "      <td>Heat</td>\n",
       "      <td>Obsessive master thief, Neil McCauley leads a ...</td>\n",
       "      <td>[{'id': 28, 'name': 'Action'}, {'id': 80, 'nam...</td>\n",
       "      <td>Heat</td>\n",
       "      <td>[{'cast_id': 25, 'character': 'Lt. Vincent Han...</td>\n",
       "    </tr>\n",
       "    <tr>\n",
       "      <th>4</th>\n",
       "      <td>11860</td>\n",
       "      <td>[{'id': 90, 'name': 'paris'}, {'id': 380, 'nam...</td>\n",
       "      <td>Sabrina</td>\n",
       "      <td>An ugly duckling having undergone a remarkable...</td>\n",
       "      <td>[{'id': 35, 'name': 'Comedy'}, {'id': 10749, '...</td>\n",
       "      <td>Sabrina</td>\n",
       "      <td>[{'cast_id': 1, 'character': 'Linus Larrabee',...</td>\n",
       "    </tr>\n",
       "  </tbody>\n",
       "</table>\n",
       "</div>"
      ],
      "text/plain": [
       "      id                                           keywords  \\\n",
       "0    862  [{'id': 931, 'name': 'jealousy'}, {'id': 4290,...   \n",
       "1   8844  [{'id': 10090, 'name': 'board game'}, {'id': 1...   \n",
       "2  11862  [{'id': 1009, 'name': 'baby'}, {'id': 1599, 'n...   \n",
       "3    949  [{'id': 642, 'name': 'robbery'}, {'id': 703, '...   \n",
       "4  11860  [{'id': 90, 'name': 'paris'}, {'id': 380, 'nam...   \n",
       "\n",
       "                original_title  \\\n",
       "0                    Toy Story   \n",
       "1                      Jumanji   \n",
       "2  Father of the Bride Part II   \n",
       "3                         Heat   \n",
       "4                      Sabrina   \n",
       "\n",
       "                                            overview  \\\n",
       "0  Led by Woody, Andy's toys live happily in his ...   \n",
       "1  When siblings Judy and Peter discover an encha...   \n",
       "2  Just when George Banks has recovered from his ...   \n",
       "3  Obsessive master thief, Neil McCauley leads a ...   \n",
       "4  An ugly duckling having undergone a remarkable...   \n",
       "\n",
       "                                              genres  \\\n",
       "0  [{'id': 16, 'name': 'Animation'}, {'id': 35, '...   \n",
       "1  [{'id': 12, 'name': 'Adventure'}, {'id': 14, '...   \n",
       "2                     [{'id': 35, 'name': 'Comedy'}]   \n",
       "3  [{'id': 28, 'name': 'Action'}, {'id': 80, 'nam...   \n",
       "4  [{'id': 35, 'name': 'Comedy'}, {'id': 10749, '...   \n",
       "\n",
       "                         title  \\\n",
       "0                    Toy Story   \n",
       "1                      Jumanji   \n",
       "2  Father of the Bride Part II   \n",
       "3                         Heat   \n",
       "4                      Sabrina   \n",
       "\n",
       "                                                cast  \n",
       "0  [{'cast_id': 14, 'character': 'Woody (voice)',...  \n",
       "1  [{'cast_id': 1, 'character': 'Alan Parrish', '...  \n",
       "2  [{'cast_id': 1, 'character': 'George Banks', '...  \n",
       "3  [{'cast_id': 25, 'character': 'Lt. Vincent Han...  \n",
       "4  [{'cast_id': 1, 'character': 'Linus Larrabee',...  "
      ]
     },
     "execution_count": 194,
     "metadata": {},
     "output_type": "execute_result"
    }
   ],
   "source": [
    "df.head()"
   ]
  },
  {
   "cell_type": "markdown",
   "metadata": {
    "id": "jHB0_Y8J3akF"
   },
   "source": [
    "### Let's fetch the genres, keywords, cast to vectorize them later"
   ]
  },
  {
   "cell_type": "code",
   "execution_count": 195,
   "metadata": {
    "execution": {
     "iopub.execute_input": "2022-08-13T19:46:20.752601Z",
     "iopub.status.busy": "2022-08-13T19:46:20.752169Z",
     "iopub.status.idle": "2022-08-13T19:46:20.901479Z",
     "shell.execute_reply": "2022-08-13T19:46:20.900378Z",
     "shell.execute_reply.started": "2022-08-13T19:46:20.752566Z"
    },
    "id": "TzviQNru3akF"
   },
   "outputs": [],
   "source": [
    "# Let's first start with cleaning the movies metadata\n",
    "df['genres'] = df['genres'].apply(lambda x: [i['name'] for i in eval(x)])\n",
    "df['genres'] = df['genres'].apply(lambda x: ' '.join([i.replace(\" \",\"\") for i in x]))"
   ]
  },
  {
   "cell_type": "code",
   "execution_count": 196,
   "metadata": {
    "execution": {
     "iopub.execute_input": "2022-08-13T19:46:20.903693Z",
     "iopub.status.busy": "2022-08-13T19:46:20.902951Z",
     "iopub.status.idle": "2022-08-13T19:46:20.910406Z",
     "shell.execute_reply": "2022-08-13T19:46:20.909132Z",
     "shell.execute_reply.started": "2022-08-13T19:46:20.903656Z"
    },
    "id": "mnWj_8o53akF"
   },
   "outputs": [],
   "source": [
    "# Filling the null values as []\n",
    "df['keywords'].fillna('[]', inplace=True)"
   ]
  },
  {
   "cell_type": "code",
   "execution_count": 197,
   "metadata": {
    "execution": {
     "iopub.execute_input": "2022-08-13T19:46:20.912335Z",
     "iopub.status.busy": "2022-08-13T19:46:20.911920Z",
     "iopub.status.idle": "2022-08-13T19:46:21.298672Z",
     "shell.execute_reply": "2022-08-13T19:46:21.297544Z",
     "shell.execute_reply.started": "2022-08-13T19:46:20.912298Z"
    },
    "id": "Xczhs92y3akF"
   },
   "outputs": [],
   "source": [
    "# Let's clean the keywords dataframe to extract the keywords\n",
    "  \n",
    "df['keywords'] = df['keywords'].apply(lambda x: [i['name'] for i in eval(x)])\n",
    "df['keywords'] = df['keywords'].apply(lambda x: ' '.join([i.replace(\" \",'') for i in x]))"
   ]
  },
  {
   "cell_type": "code",
   "execution_count": 198,
   "metadata": {
    "execution": {
     "iopub.execute_input": "2022-08-13T19:46:21.300841Z",
     "iopub.status.busy": "2022-08-13T19:46:21.300453Z",
     "iopub.status.idle": "2022-08-13T19:46:21.308513Z",
     "shell.execute_reply": "2022-08-13T19:46:21.307301Z",
     "shell.execute_reply.started": "2022-08-13T19:46:21.300804Z"
    },
    "id": "482gtmtw3akG"
   },
   "outputs": [],
   "source": [
    "# Filling the null values as []\n",
    "df['cast'].fillna('[]', inplace=True)"
   ]
  },
  {
   "cell_type": "code",
   "execution_count": 199,
   "metadata": {
    "execution": {
     "iopub.execute_input": "2022-08-13T19:46:21.310195Z",
     "iopub.status.busy": "2022-08-13T19:46:21.309820Z",
     "iopub.status.idle": "2022-08-13T19:46:24.922390Z",
     "shell.execute_reply": "2022-08-13T19:46:24.921549Z",
     "shell.execute_reply.started": "2022-08-13T19:46:21.310162Z"
    },
    "id": "zgD4XMXc3akG"
   },
   "outputs": [],
   "source": [
    "# Let's clean the cast dataframe\n",
    "df['cast'] = df['cast'].apply(lambda x: [i['name'] for i in eval(x)])\n",
    "df['cast'] = df['cast'].apply(lambda x: ' '.join([i.replace(\" \",'') for i in x]))"
   ]
  },
  {
   "cell_type": "code",
   "execution_count": 200,
   "metadata": {
    "execution": {
     "iopub.execute_input": "2022-08-13T19:46:24.924500Z",
     "iopub.status.busy": "2022-08-13T19:46:24.924107Z",
     "iopub.status.idle": "2022-08-13T19:46:24.938622Z",
     "shell.execute_reply": "2022-08-13T19:46:24.937657Z",
     "shell.execute_reply.started": "2022-08-13T19:46:24.924463Z"
    },
    "id": "R-FFxZl_3akG"
   },
   "outputs": [
    {
     "data": {
      "text/html": [
       "<div>\n",
       "<style scoped>\n",
       "    .dataframe tbody tr th:only-of-type {\n",
       "        vertical-align: middle;\n",
       "    }\n",
       "\n",
       "    .dataframe tbody tr th {\n",
       "        vertical-align: top;\n",
       "    }\n",
       "\n",
       "    .dataframe thead th {\n",
       "        text-align: right;\n",
       "    }\n",
       "</style>\n",
       "<table border=\"1\" class=\"dataframe\">\n",
       "  <thead>\n",
       "    <tr style=\"text-align: right;\">\n",
       "      <th></th>\n",
       "      <th>id</th>\n",
       "      <th>keywords</th>\n",
       "      <th>original_title</th>\n",
       "      <th>overview</th>\n",
       "      <th>genres</th>\n",
       "      <th>title</th>\n",
       "      <th>cast</th>\n",
       "    </tr>\n",
       "  </thead>\n",
       "  <tbody>\n",
       "    <tr>\n",
       "      <th>0</th>\n",
       "      <td>862</td>\n",
       "      <td>jealousy toy boy friendship friends rivalry bo...</td>\n",
       "      <td>Toy Story</td>\n",
       "      <td>Led by Woody, Andy's toys live happily in his ...</td>\n",
       "      <td>Animation Comedy Family</td>\n",
       "      <td>Toy Story</td>\n",
       "      <td>TomHanks TimAllen DonRickles JimVarney Wallace...</td>\n",
       "    </tr>\n",
       "    <tr>\n",
       "      <th>1</th>\n",
       "      <td>8844</td>\n",
       "      <td>boardgame disappearance basedonchildren'sbook ...</td>\n",
       "      <td>Jumanji</td>\n",
       "      <td>When siblings Judy and Peter discover an encha...</td>\n",
       "      <td>Adventure Fantasy Family</td>\n",
       "      <td>Jumanji</td>\n",
       "      <td>RobinWilliams JonathanHyde KirstenDunst Bradle...</td>\n",
       "    </tr>\n",
       "    <tr>\n",
       "      <th>2</th>\n",
       "      <td>11862</td>\n",
       "      <td>baby midlifecrisis confidence aging daughter m...</td>\n",
       "      <td>Father of the Bride Part II</td>\n",
       "      <td>Just when George Banks has recovered from his ...</td>\n",
       "      <td>Comedy</td>\n",
       "      <td>Father of the Bride Part II</td>\n",
       "      <td>SteveMartin DianeKeaton MartinShort KimberlyWi...</td>\n",
       "    </tr>\n",
       "    <tr>\n",
       "      <th>3</th>\n",
       "      <td>949</td>\n",
       "      <td>robbery detective bank obsession chase shootin...</td>\n",
       "      <td>Heat</td>\n",
       "      <td>Obsessive master thief, Neil McCauley leads a ...</td>\n",
       "      <td>Action Crime Drama Thriller</td>\n",
       "      <td>Heat</td>\n",
       "      <td>AlPacino RobertDeNiro ValKilmer JonVoight TomS...</td>\n",
       "    </tr>\n",
       "    <tr>\n",
       "      <th>4</th>\n",
       "      <td>11860</td>\n",
       "      <td>paris brotherbrotherrelationship chauffeur lon...</td>\n",
       "      <td>Sabrina</td>\n",
       "      <td>An ugly duckling having undergone a remarkable...</td>\n",
       "      <td>Comedy Romance</td>\n",
       "      <td>Sabrina</td>\n",
       "      <td>HarrisonFord JuliaOrmond GregKinnear AngieDick...</td>\n",
       "    </tr>\n",
       "  </tbody>\n",
       "</table>\n",
       "</div>"
      ],
      "text/plain": [
       "      id                                           keywords  \\\n",
       "0    862  jealousy toy boy friendship friends rivalry bo...   \n",
       "1   8844  boardgame disappearance basedonchildren'sbook ...   \n",
       "2  11862  baby midlifecrisis confidence aging daughter m...   \n",
       "3    949  robbery detective bank obsession chase shootin...   \n",
       "4  11860  paris brotherbrotherrelationship chauffeur lon...   \n",
       "\n",
       "                original_title  \\\n",
       "0                    Toy Story   \n",
       "1                      Jumanji   \n",
       "2  Father of the Bride Part II   \n",
       "3                         Heat   \n",
       "4                      Sabrina   \n",
       "\n",
       "                                            overview  \\\n",
       "0  Led by Woody, Andy's toys live happily in his ...   \n",
       "1  When siblings Judy and Peter discover an encha...   \n",
       "2  Just when George Banks has recovered from his ...   \n",
       "3  Obsessive master thief, Neil McCauley leads a ...   \n",
       "4  An ugly duckling having undergone a remarkable...   \n",
       "\n",
       "                        genres                        title  \\\n",
       "0      Animation Comedy Family                    Toy Story   \n",
       "1     Adventure Fantasy Family                      Jumanji   \n",
       "2                       Comedy  Father of the Bride Part II   \n",
       "3  Action Crime Drama Thriller                         Heat   \n",
       "4               Comedy Romance                      Sabrina   \n",
       "\n",
       "                                                cast  \n",
       "0  TomHanks TimAllen DonRickles JimVarney Wallace...  \n",
       "1  RobinWilliams JonathanHyde KirstenDunst Bradle...  \n",
       "2  SteveMartin DianeKeaton MartinShort KimberlyWi...  \n",
       "3  AlPacino RobertDeNiro ValKilmer JonVoight TomS...  \n",
       "4  HarrisonFord JuliaOrmond GregKinnear AngieDick...  "
      ]
     },
     "execution_count": 200,
     "metadata": {},
     "output_type": "execute_result"
    }
   ],
   "source": [
    "df.head()"
   ]
  },
  {
   "cell_type": "markdown",
   "metadata": {
    "id": "Ldeam2U33akH"
   },
   "source": [
    "### **Let's merge all of them into a single feature!**"
   ]
  },
  {
   "cell_type": "code",
   "execution_count": 201,
   "metadata": {
    "execution": {
     "iopub.execute_input": "2022-08-13T19:46:24.940254Z",
     "iopub.status.busy": "2022-08-13T19:46:24.939850Z",
     "iopub.status.idle": "2022-08-13T19:46:24.995939Z",
     "shell.execute_reply": "2022-08-13T19:46:24.994947Z",
     "shell.execute_reply.started": "2022-08-13T19:46:24.940195Z"
    },
    "id": "8nSUew-W3akH"
   },
   "outputs": [],
   "source": [
    "df['soup'] = df['overview'] + ' ' + df['genres'] +  ' ' + df['original_title'] + ' ' + df['keywords'] + ' ' + df['cast']"
   ]
  },
  {
   "cell_type": "code",
   "execution_count": 202,
   "metadata": {
    "execution": {
     "iopub.execute_input": "2022-08-13T19:46:24.997645Z",
     "iopub.status.busy": "2022-08-13T19:46:24.997278Z",
     "iopub.status.idle": "2022-08-13T19:46:25.006243Z",
     "shell.execute_reply": "2022-08-13T19:46:25.005474Z",
     "shell.execute_reply.started": "2022-08-13T19:46:24.997613Z"
    },
    "id": "DiY8I4W23akH"
   },
   "outputs": [],
   "source": [
    "# Delete useless columns\n",
    "df.drop(columns=['genres','overview','original_title','keywords','cast'], inplace=True)"
   ]
  },
  {
   "cell_type": "code",
   "execution_count": 203,
   "metadata": {
    "execution": {
     "iopub.execute_input": "2022-08-13T19:46:25.008076Z",
     "iopub.status.busy": "2022-08-13T19:46:25.007354Z",
     "iopub.status.idle": "2022-08-13T19:46:25.021935Z",
     "shell.execute_reply": "2022-08-13T19:46:25.021232Z",
     "shell.execute_reply.started": "2022-08-13T19:46:25.008041Z"
    },
    "id": "M49uOws33akH"
   },
   "outputs": [
    {
     "data": {
      "text/html": [
       "<div>\n",
       "<style scoped>\n",
       "    .dataframe tbody tr th:only-of-type {\n",
       "        vertical-align: middle;\n",
       "    }\n",
       "\n",
       "    .dataframe tbody tr th {\n",
       "        vertical-align: top;\n",
       "    }\n",
       "\n",
       "    .dataframe thead th {\n",
       "        text-align: right;\n",
       "    }\n",
       "</style>\n",
       "<table border=\"1\" class=\"dataframe\">\n",
       "  <thead>\n",
       "    <tr style=\"text-align: right;\">\n",
       "      <th></th>\n",
       "      <th>id</th>\n",
       "      <th>title</th>\n",
       "      <th>soup</th>\n",
       "    </tr>\n",
       "  </thead>\n",
       "  <tbody>\n",
       "    <tr>\n",
       "      <th>0</th>\n",
       "      <td>862</td>\n",
       "      <td>Toy Story</td>\n",
       "      <td>Led by Woody, Andy's toys live happily in his ...</td>\n",
       "    </tr>\n",
       "    <tr>\n",
       "      <th>1</th>\n",
       "      <td>8844</td>\n",
       "      <td>Jumanji</td>\n",
       "      <td>When siblings Judy and Peter discover an encha...</td>\n",
       "    </tr>\n",
       "    <tr>\n",
       "      <th>2</th>\n",
       "      <td>11862</td>\n",
       "      <td>Father of the Bride Part II</td>\n",
       "      <td>Just when George Banks has recovered from his ...</td>\n",
       "    </tr>\n",
       "    <tr>\n",
       "      <th>3</th>\n",
       "      <td>949</td>\n",
       "      <td>Heat</td>\n",
       "      <td>Obsessive master thief, Neil McCauley leads a ...</td>\n",
       "    </tr>\n",
       "    <tr>\n",
       "      <th>4</th>\n",
       "      <td>11860</td>\n",
       "      <td>Sabrina</td>\n",
       "      <td>An ugly duckling having undergone a remarkable...</td>\n",
       "    </tr>\n",
       "  </tbody>\n",
       "</table>\n",
       "</div>"
      ],
      "text/plain": [
       "      id                        title  \\\n",
       "0    862                    Toy Story   \n",
       "1   8844                      Jumanji   \n",
       "2  11862  Father of the Bride Part II   \n",
       "3    949                         Heat   \n",
       "4  11860                      Sabrina   \n",
       "\n",
       "                                                soup  \n",
       "0  Led by Woody, Andy's toys live happily in his ...  \n",
       "1  When siblings Judy and Peter discover an encha...  \n",
       "2  Just when George Banks has recovered from his ...  \n",
       "3  Obsessive master thief, Neil McCauley leads a ...  \n",
       "4  An ugly duckling having undergone a remarkable...  "
      ]
     },
     "execution_count": 203,
     "metadata": {},
     "output_type": "execute_result"
    }
   ],
   "source": [
    "df.head()"
   ]
  },
  {
   "cell_type": "code",
   "execution_count": 204,
   "metadata": {
    "execution": {
     "iopub.execute_input": "2022-08-13T19:46:25.023699Z",
     "iopub.status.busy": "2022-08-13T19:46:25.023355Z",
     "iopub.status.idle": "2022-08-13T19:46:25.039074Z",
     "shell.execute_reply": "2022-08-13T19:46:25.037890Z",
     "shell.execute_reply.started": "2022-08-13T19:46:25.023666Z"
    },
    "id": "ny8y_7nc3akH"
   },
   "outputs": [
    {
     "data": {
      "text/plain": [
       "id        0\n",
       "title     0\n",
       "soup     12\n",
       "dtype: int64"
      ]
     },
     "execution_count": 204,
     "metadata": {},
     "output_type": "execute_result"
    }
   ],
   "source": [
    "df.isnull().sum()"
   ]
  },
  {
   "cell_type": "markdown",
   "metadata": {
    "id": "JJB60iRU3akI"
   },
   "source": [
    "* **Let's remove those null rows**"
   ]
  },
  {
   "cell_type": "code",
   "execution_count": 205,
   "metadata": {
    "execution": {
     "iopub.execute_input": "2022-08-13T19:46:25.040869Z",
     "iopub.status.busy": "2022-08-13T19:46:25.040390Z",
     "iopub.status.idle": "2022-08-13T19:46:25.053134Z",
     "shell.execute_reply": "2022-08-13T19:46:25.052312Z",
     "shell.execute_reply.started": "2022-08-13T19:46:25.040826Z"
    },
    "id": "mXXt61JL3akI"
   },
   "outputs": [],
   "source": [
    "df.drop(df[df['soup'].isnull()].index, inplace=True)"
   ]
  },
  {
   "cell_type": "code",
   "execution_count": 206,
   "metadata": {
    "execution": {
     "iopub.execute_input": "2022-08-13T19:46:25.055141Z",
     "iopub.status.busy": "2022-08-13T19:46:25.054666Z",
     "iopub.status.idle": "2022-08-13T19:46:25.067335Z",
     "shell.execute_reply": "2022-08-13T19:46:25.066552Z",
     "shell.execute_reply.started": "2022-08-13T19:46:25.055109Z"
    },
    "id": "N2zTaU6C3akI"
   },
   "outputs": [
    {
     "data": {
      "text/html": [
       "<div>\n",
       "<style scoped>\n",
       "    .dataframe tbody tr th:only-of-type {\n",
       "        vertical-align: middle;\n",
       "    }\n",
       "\n",
       "    .dataframe tbody tr th {\n",
       "        vertical-align: top;\n",
       "    }\n",
       "\n",
       "    .dataframe thead th {\n",
       "        text-align: right;\n",
       "    }\n",
       "</style>\n",
       "<table border=\"1\" class=\"dataframe\">\n",
       "  <thead>\n",
       "    <tr style=\"text-align: right;\">\n",
       "      <th></th>\n",
       "      <th>id</th>\n",
       "      <th>title</th>\n",
       "      <th>soup</th>\n",
       "    </tr>\n",
       "  </thead>\n",
       "  <tbody>\n",
       "    <tr>\n",
       "      <th>0</th>\n",
       "      <td>862</td>\n",
       "      <td>Toy Story</td>\n",
       "      <td>Led by Woody, Andy's toys live happily in his ...</td>\n",
       "    </tr>\n",
       "    <tr>\n",
       "      <th>1</th>\n",
       "      <td>8844</td>\n",
       "      <td>Jumanji</td>\n",
       "      <td>When siblings Judy and Peter discover an encha...</td>\n",
       "    </tr>\n",
       "    <tr>\n",
       "      <th>2</th>\n",
       "      <td>11862</td>\n",
       "      <td>Father of the Bride Part II</td>\n",
       "      <td>Just when George Banks has recovered from his ...</td>\n",
       "    </tr>\n",
       "    <tr>\n",
       "      <th>3</th>\n",
       "      <td>949</td>\n",
       "      <td>Heat</td>\n",
       "      <td>Obsessive master thief, Neil McCauley leads a ...</td>\n",
       "    </tr>\n",
       "    <tr>\n",
       "      <th>4</th>\n",
       "      <td>11860</td>\n",
       "      <td>Sabrina</td>\n",
       "      <td>An ugly duckling having undergone a remarkable...</td>\n",
       "    </tr>\n",
       "  </tbody>\n",
       "</table>\n",
       "</div>"
      ],
      "text/plain": [
       "      id                        title  \\\n",
       "0    862                    Toy Story   \n",
       "1   8844                      Jumanji   \n",
       "2  11862  Father of the Bride Part II   \n",
       "3    949                         Heat   \n",
       "4  11860                      Sabrina   \n",
       "\n",
       "                                                soup  \n",
       "0  Led by Woody, Andy's toys live happily in his ...  \n",
       "1  When siblings Judy and Peter discover an encha...  \n",
       "2  Just when George Banks has recovered from his ...  \n",
       "3  Obsessive master thief, Neil McCauley leads a ...  \n",
       "4  An ugly duckling having undergone a remarkable...  "
      ]
     },
     "execution_count": 206,
     "metadata": {},
     "output_type": "execute_result"
    }
   ],
   "source": [
    "df.head()"
   ]
  },
  {
   "cell_type": "code",
   "execution_count": 207,
   "metadata": {
    "execution": {
     "iopub.execute_input": "2022-08-13T19:46:25.069841Z",
     "iopub.status.busy": "2022-08-13T19:46:25.068756Z",
     "iopub.status.idle": "2022-08-13T19:46:25.077017Z",
     "shell.execute_reply": "2022-08-13T19:46:25.076038Z",
     "shell.execute_reply.started": "2022-08-13T19:46:25.069788Z"
    },
    "id": "aBBvtAXh3akI"
   },
   "outputs": [
    {
     "data": {
      "text/plain": [
       "(6120, 3)"
      ]
     },
     "execution_count": 207,
     "metadata": {},
     "output_type": "execute_result"
    }
   ],
   "source": [
    "df.shape"
   ]
  },
  {
   "cell_type": "code",
   "execution_count": 208,
   "metadata": {
    "execution": {
     "iopub.execute_input": "2022-08-13T19:46:25.079428Z",
     "iopub.status.busy": "2022-08-13T19:46:25.078411Z",
     "iopub.status.idle": "2022-08-13T19:46:25.111613Z",
     "shell.execute_reply": "2022-08-13T19:46:25.110516Z",
     "shell.execute_reply.started": "2022-08-13T19:46:25.079378Z"
    },
    "id": "X_L_Ibko3akI"
   },
   "outputs": [],
   "source": [
    "df.drop_duplicates(inplace=True)"
   ]
  },
  {
   "cell_type": "code",
   "execution_count": 209,
   "metadata": {
    "execution": {
     "iopub.execute_input": "2022-08-13T19:46:25.113691Z",
     "iopub.status.busy": "2022-08-13T19:46:25.113194Z",
     "iopub.status.idle": "2022-08-13T19:46:25.120256Z",
     "shell.execute_reply": "2022-08-13T19:46:25.119308Z",
     "shell.execute_reply.started": "2022-08-13T19:46:25.113644Z"
    },
    "id": "a3GY9JuU3akI"
   },
   "outputs": [
    {
     "data": {
      "text/plain": [
       "(6039, 3)"
      ]
     },
     "execution_count": 209,
     "metadata": {},
     "output_type": "execute_result"
    }
   ],
   "source": [
    "df.shape"
   ]
  },
  {
   "cell_type": "markdown",
   "metadata": {
    "id": "wykdPAbS3akI"
   },
   "source": [
    "## **Vectorization**\n",
    "\n",
    "Our model won't be understand text inputs, so we have to vectorize them."
   ]
  },
  {
   "cell_type": "code",
   "execution_count": 210,
   "metadata": {
    "execution": {
     "iopub.execute_input": "2022-08-13T19:46:25.122177Z",
     "iopub.status.busy": "2022-08-13T19:46:25.121706Z",
     "iopub.status.idle": "2022-08-13T19:46:25.132178Z",
     "shell.execute_reply": "2022-08-13T19:46:25.131182Z",
     "shell.execute_reply.started": "2022-08-13T19:46:25.122134Z"
    },
    "id": "inX6CjDZ3akI"
   },
   "outputs": [],
   "source": [
    "from sklearn.feature_extraction.text import TfidfVectorizer"
   ]
  },
  {
   "cell_type": "code",
   "execution_count": 211,
   "metadata": {
    "execution": {
     "iopub.execute_input": "2022-08-13T19:46:25.134163Z",
     "iopub.status.busy": "2022-08-13T19:46:25.133574Z",
     "iopub.status.idle": "2022-08-13T19:46:26.153735Z",
     "shell.execute_reply": "2022-08-13T19:46:26.152771Z",
     "shell.execute_reply.started": "2022-08-13T19:46:25.134127Z"
    },
    "id": "Mva31Ila3akI"
   },
   "outputs": [],
   "source": [
    "# Initialize a tfidf object\n",
    "tfidf = TfidfVectorizer(max_features=5000)\n",
    "\n",
    "# Transform the data\n",
    "vectorized_data = tfidf.fit_transform(df['soup'].values)"
   ]
  },
  {
   "cell_type": "code",
   "execution_count": 212,
   "metadata": {
    "execution": {
     "iopub.execute_input": "2022-08-13T19:46:26.155686Z",
     "iopub.status.busy": "2022-08-13T19:46:26.155112Z",
     "iopub.status.idle": "2022-08-13T19:46:26.162086Z",
     "shell.execute_reply": "2022-08-13T19:46:26.161254Z",
     "shell.execute_reply.started": "2022-08-13T19:46:26.155648Z"
    },
    "id": "acbulKgm3akI"
   },
   "outputs": [
    {
     "data": {
      "text/plain": [
       "<6039x5000 sparse matrix of type '<class 'numpy.float64'>'\n",
       "\twith 271306 stored elements in Compressed Sparse Row format>"
      ]
     },
     "execution_count": 212,
     "metadata": {},
     "output_type": "execute_result"
    }
   ],
   "source": [
    "vectorized_data"
   ]
  },
  {
   "cell_type": "code",
   "execution_count": 213,
   "metadata": {
    "execution": {
     "iopub.execute_input": "2022-08-13T19:46:26.163802Z",
     "iopub.status.busy": "2022-08-13T19:46:26.163423Z",
     "iopub.status.idle": "2022-08-13T19:46:26.793380Z",
     "shell.execute_reply": "2022-08-13T19:46:26.792413Z",
     "shell.execute_reply.started": "2022-08-13T19:46:26.163768Z"
    },
    "id": "jRgj-TTW3akJ"
   },
   "outputs": [],
   "source": [
    "vectorized_dataframe = pd.DataFrame(vectorized_data.toarray(), index=df['soup'].index.tolist())"
   ]
  },
  {
   "cell_type": "markdown",
   "metadata": {
    "id": "nszvMdgb3akJ"
   },
   "source": [
    "## **Compute a similarity metric on vectors for recommendation**\n",
    "We are going to use cosine similarity to compute similarity between film vectors."
   ]
  },
  {
   "cell_type": "code",
   "execution_count": 214,
   "metadata": {
    "execution": {
     "iopub.execute_input": "2022-08-13T19:46:26.795247Z",
     "iopub.status.busy": "2022-08-13T19:46:26.794659Z",
     "iopub.status.idle": "2022-08-13T19:46:30.153973Z",
     "shell.execute_reply": "2022-08-13T19:46:30.152692Z",
     "shell.execute_reply.started": "2022-08-13T19:46:26.795197Z"
    },
    "id": "3lud7Nts3akJ"
   },
   "outputs": [],
   "source": [
    "from sklearn.metrics.pairwise import cosine_similarity\n",
    "similarity = cosine_similarity(vectorized_dataframe)"
   ]
  },
  {
   "cell_type": "markdown",
   "metadata": {
    "id": "Kky8fChQ3akJ"
   },
   "source": [
    "#### Making recommendations for a given movie"
   ]
  },
  {
   "cell_type": "code",
   "execution_count": 215,
   "metadata": {
    "execution": {
     "iopub.execute_input": "2022-08-13T19:46:30.155613Z",
     "iopub.status.busy": "2022-08-13T19:46:30.155281Z",
     "iopub.status.idle": "2022-08-13T19:46:30.162450Z",
     "shell.execute_reply": "2022-08-13T19:46:30.161472Z",
     "shell.execute_reply.started": "2022-08-13T19:46:30.155583Z"
    },
    "id": "eRLnWyKD3akJ"
   },
   "outputs": [],
   "source": [
    "def recommendation(movie_title):\n",
    "    movie_id = df[df['title']==movie_title].index[0]\n",
    "    distances = similarity[movie_id]\n",
    "    movie_list = sorted(list(enumerate(distances)), reverse=True, key=lambda x:x[1])[1:10]\n",
    "    \n",
    "    for movie in movie_list:\n",
    "        print(df.iloc[movie[0]].title)"
   ]
  },
  {
   "cell_type": "code",
   "execution_count": 216,
   "metadata": {
    "execution": {
     "iopub.execute_input": "2022-08-13T19:46:30.165037Z",
     "iopub.status.busy": "2022-08-13T19:46:30.163842Z",
     "iopub.status.idle": "2022-08-13T19:46:30.184091Z",
     "shell.execute_reply": "2022-08-13T19:46:30.183003Z",
     "shell.execute_reply.started": "2022-08-13T19:46:30.164996Z"
    },
    "id": "oYAawGSx3akJ"
   },
   "outputs": [
    {
     "name": "stdout",
     "output_type": "stream",
     "text": [
      "The Matrix Revolutions\n",
      "The Matrix Reloaded\n",
      "The Animatrix\n",
      "Commando\n",
      "GHOST IN THE SHELL\n",
      "Terminator 3: Rise of the Machines\n",
      "Hackers\n",
      "Tron\n",
      "Who Am I - Kein System ist sicher\n"
     ]
    }
   ],
   "source": [
    "recommendation('The Matrix')"
   ]
  },
  {
   "cell_type": "code",
   "execution_count": 217,
   "metadata": {
    "execution": {
     "iopub.execute_input": "2022-08-13T19:46:30.186774Z",
     "iopub.status.busy": "2022-08-13T19:46:30.185643Z",
     "iopub.status.idle": "2022-08-13T19:46:30.207245Z",
     "shell.execute_reply": "2022-08-13T19:46:30.205894Z",
     "shell.execute_reply.started": "2022-08-13T19:46:30.186726Z"
    },
    "id": "QUvDGySX3akJ"
   },
   "outputs": [
    {
     "name": "stdout",
     "output_type": "stream",
     "text": [
      "Batman & Robin\n",
      "Batman Returns\n",
      "Batman Beyond: Return of the Joker\n",
      "The Dark Knight\n",
      "The Dark Knight Rises\n",
      "Batman: Gotham Knight\n",
      "Batman: Under the Red Hood\n",
      "Batman Begins\n",
      "Batman: Year One\n"
     ]
    }
   ],
   "source": [
    "recommendation('Batman')"
   ]
  },
  {
   "cell_type": "markdown",
   "metadata": {
    "id": "2aKYFgd23akJ"
   },
   "source": [
    "<a id='model_based'></a>\n",
    "## **Model Based Recommender Systems**\n",
    "\n",
    "Model-based recommendation systems build their models based on the dataset of ratings. That means we will extract some information from the dataset, and use that as a model to make recommendations without having to use the complete dataset in every run.\n",
    "\n",
    "We will use Surprise library and SVD."
   ]
  },
  {
   "cell_type": "markdown",
   "metadata": {
    "id": "ri8vYiir3akJ"
   },
   "source": [
    "### **Singular Value Decomposition (SVD)**\n",
    "Singular Value Decomposition is a matrix factorization method. Singular value decomposition decomposes a matrix into three other matrices and extracts the features from the factorization of a high-level (user-item-rating) matrix.\n",
    "\n",
    "\n",
    "Matrix U: Latent features of Users\n",
    "\n",
    "Matrix S: Diagonal matrix representing the strength of each feature\n",
    "\n",
    "Matrix U: Latent features of Items"
   ]
  },
  {
   "cell_type": "markdown",
   "metadata": {
    "id": "hDmY88lc3akJ"
   },
   "source": [
    "#### **Importing Related Libraries**"
   ]
  },
  {
   "cell_type": "code",
   "execution_count": 218,
   "metadata": {
    "execution": {
     "iopub.execute_input": "2022-08-13T19:46:30.209514Z",
     "iopub.status.busy": "2022-08-13T19:46:30.208882Z",
     "iopub.status.idle": "2022-08-13T19:46:30.218981Z",
     "shell.execute_reply": "2022-08-13T19:46:30.217940Z",
     "shell.execute_reply.started": "2022-08-13T19:46:30.209468Z"
    },
    "id": "ojrKVqNZ3akJ"
   },
   "outputs": [],
   "source": [
    "from surprise import Dataset, Reader\n",
    "\n",
    "from surprise.prediction_algorithms.matrix_factorization import SVD\n",
    "\n",
    "from surprise import accuracy"
   ]
  },
  {
   "cell_type": "markdown",
   "metadata": {
    "id": "bRpErVKN3akJ"
   },
   "source": [
    "#### **Read the data**"
   ]
  },
  {
   "cell_type": "code",
   "execution_count": 219,
   "metadata": {
    "execution": {
     "iopub.execute_input": "2022-08-13T19:46:30.221919Z",
     "iopub.status.busy": "2022-08-13T19:46:30.221522Z",
     "iopub.status.idle": "2022-08-13T19:46:31.036177Z",
     "shell.execute_reply": "2022-08-13T19:46:31.035198Z",
     "shell.execute_reply.started": "2022-08-13T19:46:30.221867Z"
    },
    "id": "wS60q-KK3akJ"
   },
   "outputs": [
    {
     "data": {
      "text/html": [
       "<div>\n",
       "<style scoped>\n",
       "    .dataframe tbody tr th:only-of-type {\n",
       "        vertical-align: middle;\n",
       "    }\n",
       "\n",
       "    .dataframe tbody tr th {\n",
       "        vertical-align: top;\n",
       "    }\n",
       "\n",
       "    .dataframe thead th {\n",
       "        text-align: right;\n",
       "    }\n",
       "</style>\n",
       "<table border=\"1\" class=\"dataframe\">\n",
       "  <thead>\n",
       "    <tr style=\"text-align: right;\">\n",
       "      <th></th>\n",
       "      <th>userId</th>\n",
       "      <th>movieId</th>\n",
       "      <th>rating</th>\n",
       "      <th>timestamp</th>\n",
       "    </tr>\n",
       "  </thead>\n",
       "  <tbody>\n",
       "    <tr>\n",
       "      <th>0</th>\n",
       "      <td>1</td>\n",
       "      <td>31</td>\n",
       "      <td>2.5</td>\n",
       "      <td>1260759144</td>\n",
       "    </tr>\n",
       "    <tr>\n",
       "      <th>1</th>\n",
       "      <td>1</td>\n",
       "      <td>1029</td>\n",
       "      <td>3.0</td>\n",
       "      <td>1260759179</td>\n",
       "    </tr>\n",
       "    <tr>\n",
       "      <th>2</th>\n",
       "      <td>1</td>\n",
       "      <td>1061</td>\n",
       "      <td>3.0</td>\n",
       "      <td>1260759182</td>\n",
       "    </tr>\n",
       "    <tr>\n",
       "      <th>3</th>\n",
       "      <td>1</td>\n",
       "      <td>1129</td>\n",
       "      <td>2.0</td>\n",
       "      <td>1260759185</td>\n",
       "    </tr>\n",
       "    <tr>\n",
       "      <th>4</th>\n",
       "      <td>1</td>\n",
       "      <td>1172</td>\n",
       "      <td>4.0</td>\n",
       "      <td>1260759205</td>\n",
       "    </tr>\n",
       "  </tbody>\n",
       "</table>\n",
       "</div>"
      ],
      "text/plain": [
       "   userId  movieId  rating   timestamp\n",
       "0       1       31     2.5  1260759144\n",
       "1       1     1029     3.0  1260759179\n",
       "2       1     1061     3.0  1260759182\n",
       "3       1     1129     2.0  1260759185\n",
       "4       1     1172     4.0  1260759205"
      ]
     },
     "execution_count": 219,
     "metadata": {},
     "output_type": "execute_result"
    }
   ],
   "source": [
    "ratings = pd.read_csv(\"C://Users/milin/Documents/AI_ML/CApstone Project/ratings_small.csv\")\n",
    "\n",
    "df = pd.read_csv(\"C://Users/milin/Documents/AI_ML/CApstone Project/movies_metadata.csv\")\n",
    "\n",
    "ratings.head()"
   ]
  },
  {
   "cell_type": "markdown",
   "metadata": {
    "id": "2O1gplA_3akK"
   },
   "source": [
    "* We will consider ratings for movies which have more than 100 counts"
   ]
  },
  {
   "cell_type": "code",
   "execution_count": 220,
   "metadata": {
    "execution": {
     "iopub.execute_input": "2022-08-13T19:46:31.037634Z",
     "iopub.status.busy": "2022-08-13T19:46:31.037290Z",
     "iopub.status.idle": "2022-08-13T19:46:31.085098Z",
     "shell.execute_reply": "2022-08-13T19:46:31.084387Z",
     "shell.execute_reply.started": "2022-08-13T19:46:31.037604Z"
    },
    "id": "-EEOTI-I3akK"
   },
   "outputs": [
    {
     "data": {
      "text/html": [
       "<div>\n",
       "<style scoped>\n",
       "    .dataframe tbody tr th:only-of-type {\n",
       "        vertical-align: middle;\n",
       "    }\n",
       "\n",
       "    .dataframe tbody tr th {\n",
       "        vertical-align: top;\n",
       "    }\n",
       "\n",
       "    .dataframe thead th {\n",
       "        text-align: right;\n",
       "    }\n",
       "</style>\n",
       "<table border=\"1\" class=\"dataframe\">\n",
       "  <thead>\n",
       "    <tr style=\"text-align: right;\">\n",
       "      <th></th>\n",
       "      <th>userId</th>\n",
       "      <th>movieId</th>\n",
       "      <th>rating</th>\n",
       "      <th>timestamp</th>\n",
       "    </tr>\n",
       "  </thead>\n",
       "  <tbody>\n",
       "    <tr>\n",
       "      <th>0</th>\n",
       "      <td>1</td>\n",
       "      <td>1371</td>\n",
       "      <td>2.5</td>\n",
       "      <td>1260759135</td>\n",
       "    </tr>\n",
       "    <tr>\n",
       "      <th>1</th>\n",
       "      <td>1</td>\n",
       "      <td>2105</td>\n",
       "      <td>4.0</td>\n",
       "      <td>1260759139</td>\n",
       "    </tr>\n",
       "    <tr>\n",
       "      <th>2</th>\n",
       "      <td>1</td>\n",
       "      <td>2294</td>\n",
       "      <td>2.0</td>\n",
       "      <td>1260759108</td>\n",
       "    </tr>\n",
       "    <tr>\n",
       "      <th>3</th>\n",
       "      <td>2</td>\n",
       "      <td>62</td>\n",
       "      <td>3.0</td>\n",
       "      <td>835355749</td>\n",
       "    </tr>\n",
       "    <tr>\n",
       "      <th>4</th>\n",
       "      <td>2</td>\n",
       "      <td>110</td>\n",
       "      <td>4.0</td>\n",
       "      <td>835355532</td>\n",
       "    </tr>\n",
       "  </tbody>\n",
       "</table>\n",
       "</div>"
      ],
      "text/plain": [
       "   userId  movieId  rating   timestamp\n",
       "0       1     1371     2.5  1260759135\n",
       "1       1     2105     4.0  1260759139\n",
       "2       1     2294     2.0  1260759108\n",
       "3       2       62     3.0   835355749\n",
       "4       2      110     4.0   835355532"
      ]
     },
     "execution_count": 220,
     "metadata": {},
     "output_type": "execute_result"
    }
   ],
   "source": [
    "df = df[df['vote_count']>100][['id','title']]\n",
    "movie_ids = [int(x) for x in df['id'].values]\n",
    "ratings = ratings[ratings['movieId'].isin(movie_ids)]\n",
    "\n",
    "ratings.reset_index(inplace=True, drop=True)\n",
    "ratings.head()"
   ]
  },
  {
   "cell_type": "code",
   "execution_count": 221,
   "metadata": {
    "execution": {
     "iopub.execute_input": "2022-08-13T19:46:31.086790Z",
     "iopub.status.busy": "2022-08-13T19:46:31.086338Z",
     "iopub.status.idle": "2022-08-13T19:46:31.095450Z",
     "shell.execute_reply": "2022-08-13T19:46:31.094562Z",
     "shell.execute_reply.started": "2022-08-13T19:46:31.086759Z"
    },
    "id": "VHpTCrYI3akK"
   },
   "outputs": [
    {
     "data": {
      "text/plain": [
       "userId       0\n",
       "movieId      0\n",
       "rating       0\n",
       "timestamp    0\n",
       "dtype: int64"
      ]
     },
     "execution_count": 221,
     "metadata": {},
     "output_type": "execute_result"
    }
   ],
   "source": [
    "ratings.isna().sum()"
   ]
  },
  {
   "cell_type": "code",
   "execution_count": 222,
   "metadata": {
    "execution": {
     "iopub.execute_input": "2022-08-13T19:46:31.097351Z",
     "iopub.status.busy": "2022-08-13T19:46:31.096813Z",
     "iopub.status.idle": "2022-08-13T19:46:31.104413Z",
     "shell.execute_reply": "2022-08-13T19:46:31.103493Z",
     "shell.execute_reply.started": "2022-08-13T19:46:31.097315Z"
    },
    "id": "jAJSTYb23akK"
   },
   "outputs": [],
   "source": [
    "train_ratings = ratings[:24000]\n",
    "test_ratings = ratings[24000:]"
   ]
  },
  {
   "cell_type": "code",
   "execution_count": 223,
   "metadata": {
    "execution": {
     "iopub.execute_input": "2022-08-13T19:46:31.107291Z",
     "iopub.status.busy": "2022-08-13T19:46:31.106555Z",
     "iopub.status.idle": "2022-08-13T19:46:31.175250Z",
     "shell.execute_reply": "2022-08-13T19:46:31.174142Z",
     "shell.execute_reply.started": "2022-08-13T19:46:31.107240Z"
    },
    "id": "UuCzeZR-3akK"
   },
   "outputs": [],
   "source": [
    "# Initialize a surprise reader object\n",
    "reader = Reader(line_format='user item rating', sep=',', rating_scale=(0,5), skip_lines=1)\n",
    "\n",
    "# Load the data\n",
    "data = Dataset.load_from_df(train_ratings[['userId','movieId','rating']], reader=reader)\n",
    "\n",
    "# Build an instance\n",
    "train_data = data.build_full_trainset()"
   ]
  },
  {
   "cell_type": "code",
   "execution_count": 224,
   "metadata": {
    "execution": {
     "iopub.execute_input": "2022-08-13T19:46:31.177253Z",
     "iopub.status.busy": "2022-08-13T19:46:31.176753Z",
     "iopub.status.idle": "2022-08-13T19:46:32.766450Z",
     "shell.execute_reply": "2022-08-13T19:46:32.765554Z",
     "shell.execute_reply.started": "2022-08-13T19:46:31.177189Z"
    },
    "id": "arLcKvJ03akK"
   },
   "outputs": [
    {
     "data": {
      "text/plain": [
       "<surprise.prediction_algorithms.matrix_factorization.SVD at 0x1de20e41d00>"
      ]
     },
     "execution_count": 224,
     "metadata": {},
     "output_type": "execute_result"
    }
   ],
   "source": [
    "# Initialize model\n",
    "svd = SVD()\n",
    "svd.fit(train_data)"
   ]
  },
  {
   "cell_type": "code",
   "execution_count": 225,
   "metadata": {
    "execution": {
     "iopub.execute_input": "2022-08-13T19:46:32.768334Z",
     "iopub.status.busy": "2022-08-13T19:46:32.767885Z",
     "iopub.status.idle": "2022-08-13T19:46:32.786061Z",
     "shell.execute_reply": "2022-08-13T19:46:32.784694Z",
     "shell.execute_reply.started": "2022-08-13T19:46:32.768299Z"
    },
    "id": "s1-sT5q13akK"
   },
   "outputs": [
    {
     "data": {
      "text/html": [
       "<div>\n",
       "<style scoped>\n",
       "    .dataframe tbody tr th:only-of-type {\n",
       "        vertical-align: middle;\n",
       "    }\n",
       "\n",
       "    .dataframe tbody tr th {\n",
       "        vertical-align: top;\n",
       "    }\n",
       "\n",
       "    .dataframe thead th {\n",
       "        text-align: right;\n",
       "    }\n",
       "</style>\n",
       "<table border=\"1\" class=\"dataframe\">\n",
       "  <thead>\n",
       "    <tr style=\"text-align: right;\">\n",
       "      <th></th>\n",
       "      <th>userId</th>\n",
       "      <th>movieId</th>\n",
       "      <th>rating</th>\n",
       "      <th>timestamp</th>\n",
       "    </tr>\n",
       "  </thead>\n",
       "  <tbody>\n",
       "    <tr>\n",
       "      <th>24000</th>\n",
       "      <td>607</td>\n",
       "      <td>1485</td>\n",
       "      <td>2.5</td>\n",
       "      <td>1118246475</td>\n",
       "    </tr>\n",
       "    <tr>\n",
       "      <th>24001</th>\n",
       "      <td>607</td>\n",
       "      <td>1552</td>\n",
       "      <td>3.5</td>\n",
       "      <td>1118247808</td>\n",
       "    </tr>\n",
       "    <tr>\n",
       "      <th>24002</th>\n",
       "      <td>607</td>\n",
       "      <td>1573</td>\n",
       "      <td>3.5</td>\n",
       "      <td>1118247493</td>\n",
       "    </tr>\n",
       "    <tr>\n",
       "      <th>24003</th>\n",
       "      <td>607</td>\n",
       "      <td>1580</td>\n",
       "      <td>4.5</td>\n",
       "      <td>1113406636</td>\n",
       "    </tr>\n",
       "    <tr>\n",
       "      <th>24004</th>\n",
       "      <td>607</td>\n",
       "      <td>1584</td>\n",
       "      <td>2.5</td>\n",
       "      <td>1113319332</td>\n",
       "    </tr>\n",
       "    <tr>\n",
       "      <th>...</th>\n",
       "      <td>...</td>\n",
       "      <td>...</td>\n",
       "      <td>...</td>\n",
       "      <td>...</td>\n",
       "    </tr>\n",
       "    <tr>\n",
       "      <th>26119</th>\n",
       "      <td>671</td>\n",
       "      <td>2959</td>\n",
       "      <td>4.0</td>\n",
       "      <td>1064890427</td>\n",
       "    </tr>\n",
       "    <tr>\n",
       "      <th>26120</th>\n",
       "      <td>671</td>\n",
       "      <td>3114</td>\n",
       "      <td>5.0</td>\n",
       "      <td>1064891089</td>\n",
       "    </tr>\n",
       "    <tr>\n",
       "      <th>26121</th>\n",
       "      <td>671</td>\n",
       "      <td>4011</td>\n",
       "      <td>4.0</td>\n",
       "      <td>1064245574</td>\n",
       "    </tr>\n",
       "    <tr>\n",
       "      <th>26122</th>\n",
       "      <td>671</td>\n",
       "      <td>4995</td>\n",
       "      <td>4.0</td>\n",
       "      <td>1064891537</td>\n",
       "    </tr>\n",
       "    <tr>\n",
       "      <th>26123</th>\n",
       "      <td>671</td>\n",
       "      <td>5902</td>\n",
       "      <td>3.5</td>\n",
       "      <td>1064245507</td>\n",
       "    </tr>\n",
       "  </tbody>\n",
       "</table>\n",
       "<p>2124 rows × 4 columns</p>\n",
       "</div>"
      ],
      "text/plain": [
       "       userId  movieId  rating   timestamp\n",
       "24000     607     1485     2.5  1118246475\n",
       "24001     607     1552     3.5  1118247808\n",
       "24002     607     1573     3.5  1118247493\n",
       "24003     607     1580     4.5  1113406636\n",
       "24004     607     1584     2.5  1113319332\n",
       "...       ...      ...     ...         ...\n",
       "26119     671     2959     4.0  1064890427\n",
       "26120     671     3114     5.0  1064891089\n",
       "26121     671     4011     4.0  1064245574\n",
       "26122     671     4995     4.0  1064891537\n",
       "26123     671     5902     3.5  1064245507\n",
       "\n",
       "[2124 rows x 4 columns]"
      ]
     },
     "execution_count": 225,
     "metadata": {},
     "output_type": "execute_result"
    }
   ],
   "source": [
    "test_ratings"
   ]
  },
  {
   "cell_type": "markdown",
   "metadata": {
    "id": "HeeG1GYN3akK"
   },
   "source": [
    "### We will pass 2 arguments to svd.predict() method, user_id(uid) and item_id (iid)"
   ]
  },
  {
   "cell_type": "code",
   "execution_count": 226,
   "metadata": {
    "execution": {
     "iopub.execute_input": "2022-08-13T19:46:32.788464Z",
     "iopub.status.busy": "2022-08-13T19:46:32.787992Z",
     "iopub.status.idle": "2022-08-13T19:46:33.409074Z",
     "shell.execute_reply": "2022-08-13T19:46:33.408022Z",
     "shell.execute_reply.started": "2022-08-13T19:46:32.788426Z"
    },
    "id": "oRRY_EUk3akK"
   },
   "outputs": [],
   "source": [
    "predictions = []\n",
    "for i in range(2124):\n",
    "    uid = test_ratings.iloc[i].userId\n",
    "    iid = test_ratings.iloc[i].movieId\n",
    "    predictions.append(svd.predict(uid=uid,iid=iid).est)"
   ]
  },
  {
   "cell_type": "code",
   "execution_count": 227,
   "metadata": {
    "execution": {
     "iopub.execute_input": "2022-08-13T19:46:33.411362Z",
     "iopub.status.busy": "2022-08-13T19:46:33.410826Z",
     "iopub.status.idle": "2022-08-13T19:46:33.416836Z",
     "shell.execute_reply": "2022-08-13T19:46:33.415964Z",
     "shell.execute_reply.started": "2022-08-13T19:46:33.411327Z"
    },
    "id": "ecJgcxCH3akL"
   },
   "outputs": [],
   "source": [
    "test_ratings[\"surprise_model_preds\"] = predictions"
   ]
  },
  {
   "cell_type": "code",
   "execution_count": 228,
   "metadata": {
    "execution": {
     "iopub.execute_input": "2022-08-13T19:46:33.418700Z",
     "iopub.status.busy": "2022-08-13T19:46:33.418251Z",
     "iopub.status.idle": "2022-08-13T19:46:33.431263Z",
     "shell.execute_reply": "2022-08-13T19:46:33.430154Z",
     "shell.execute_reply.started": "2022-08-13T19:46:33.418656Z"
    },
    "id": "EFW_vKu33akL"
   },
   "outputs": [],
   "source": [
    "def get_recommendations(data, movie_md, user_id, top_n, algo):\n",
    "    \n",
    "    # creating an empty list to store the recommended movie ids\n",
    "    recommendation_list = []\n",
    "    \n",
    "    # user item interactions matrix \n",
    "    user_movie_matrix = data.pivot(index='userId', columns='movieId', values='rating')\n",
    "    \n",
    "    # extracting those product ids which the user_id has not interacted yet\n",
    "    non_interacted_movies = user_movie_matrix.loc[user_id][user_movie_matrix.loc[user_id].isnull()].index.tolist()\n",
    "    \n",
    "    # looping through each of the movie ids which user_id has not watched yet\n",
    "    for item_id in non_interacted_movies:\n",
    "        \n",
    "        # predicting the ratings for those non interacted movie ids by this user\n",
    "        est = algo.predict(user_id, item_id).est\n",
    "        \n",
    "        # appending the predicted ratings\n",
    "        movie_name = movie_md[movie_md['id']==str(item_id)]['title'].values[0]\n",
    "        recommendation_list.append((movie_name, est))\n",
    "\n",
    "    # sorting the predicted ratings\n",
    "    recommendation_list.sort(key=lambda x: x[1], reverse=True)\n",
    "\n",
    "    return recommendation_list[:top_n] # returing top n highest predicted rating films for this user"
   ]
  },
  {
   "cell_type": "code",
   "execution_count": 229,
   "metadata": {
    "execution": {
     "iopub.execute_input": "2022-08-13T19:46:33.433366Z",
     "iopub.status.busy": "2022-08-13T19:46:33.432469Z",
     "iopub.status.idle": "2022-08-13T19:46:34.456765Z",
     "shell.execute_reply": "2022-08-13T19:46:34.455782Z",
     "shell.execute_reply.started": "2022-08-13T19:46:33.433328Z"
    },
    "id": "rj3IPXJl3akL"
   },
   "outputs": [
    {
     "data": {
      "text/plain": [
       "[('While You Were Sleeping', 4.39633724746911),\n",
       " ('Galaxy Quest', 4.391298379116606),\n",
       " ('Nell', 4.365131382638824),\n",
       " ('The Thomas Crown Affair', 4.328474632936988),\n",
       " ('Hard Target', 4.299776984471645),\n",
       " (\"Don't Worry, I'm Fine\", 4.276546412168001),\n",
       " ('Dead Man', 4.273018556849281),\n",
       " ('Frankenstein', 4.265643799847751),\n",
       " ('The Sixth Sense', 4.255716443012763),\n",
       " ('Madagascar', 4.2400941156996)]"
      ]
     },
     "execution_count": 229,
     "metadata": {},
     "output_type": "execute_result"
    }
   ],
   "source": [
    "get_recommendations(data=ratings,movie_md=df, user_id=654, top_n=10, algo=svd)"
   ]
  },
  {
   "cell_type": "markdown",
   "metadata": {
    "id": "VXFR6G1x3akL"
   },
   "source": [
    "## **Memory Based Recommender System**\n",
    "\n",
    "Memory-based methods use user rating data to compute the similarity between users or items. The idea behind these methods is to define a similarity measure between users or items, and find the most similar to recommend unseen items.\n",
    "Memory based recommender systems are of 2 types - \n",
    "\n",
    "-User Based\n",
    "\n",
    "-Item Based"
   ]
  },
  {
   "cell_type": "markdown",
   "metadata": {
    "id": "sNMebPiw3akL"
   },
   "source": [
    "### **User-Based**\n",
    "\n",
    "In user based recommendation method we will be computing similarities between users and will grab the most similar users using an algorithm and will recommend movies which one user likes to another user.\n"
   ]
  },
  {
   "cell_type": "markdown",
   "metadata": {
    "id": "G98828k33akL"
   },
   "source": [
    "#### **Importing Libraries**"
   ]
  },
  {
   "cell_type": "code",
   "execution_count": 230,
   "metadata": {
    "execution": {
     "iopub.execute_input": "2022-08-13T19:46:34.459059Z",
     "iopub.status.busy": "2022-08-13T19:46:34.458146Z",
     "iopub.status.idle": "2022-08-13T19:46:34.464395Z",
     "shell.execute_reply": "2022-08-13T19:46:34.462896Z",
     "shell.execute_reply.started": "2022-08-13T19:46:34.459022Z"
    },
    "id": "XWXUxxZ63akL"
   },
   "outputs": [],
   "source": [
    "from surprise.prediction_algorithms.knns import KNNBasic"
   ]
  },
  {
   "cell_type": "code",
   "execution_count": 231,
   "metadata": {
    "execution": {
     "iopub.execute_input": "2022-08-13T19:46:34.466500Z",
     "iopub.status.busy": "2022-08-13T19:46:34.465982Z",
     "iopub.status.idle": "2022-08-13T19:46:34.700152Z",
     "shell.execute_reply": "2022-08-13T19:46:34.698998Z",
     "shell.execute_reply.started": "2022-08-13T19:46:34.466447Z"
    },
    "id": "Ai_qep3s3akL"
   },
   "outputs": [
    {
     "data": {
      "text/plain": [
       "<surprise.prediction_algorithms.knns.KNNBasic at 0x1de2090adc0>"
      ]
     },
     "execution_count": 231,
     "metadata": {},
     "output_type": "execute_result"
    }
   ],
   "source": [
    "\n",
    "parameters = {'name': 'cosine',\n",
    "               'user_based': True}\n",
    "\n",
    "# KNN is used to find similar items\n",
    "sim_user = KNNBasic(sim_options=parameters, verbose=False, random_state=42)\n",
    "\n",
    "# Train the algorithm\n",
    "sim_user.fit(train_data)"
   ]
  },
  {
   "cell_type": "code",
   "execution_count": 232,
   "metadata": {
    "execution": {
     "iopub.execute_input": "2022-08-13T19:46:34.702038Z",
     "iopub.status.busy": "2022-08-13T19:46:34.701634Z",
     "iopub.status.idle": "2022-08-13T19:46:35.333939Z",
     "shell.execute_reply": "2022-08-13T19:46:35.332725Z",
     "shell.execute_reply.started": "2022-08-13T19:46:34.702004Z"
    },
    "id": "jhWx1ipm3akL"
   },
   "outputs": [],
   "source": [
    "predictions2 = []\n",
    "for i in range(2124):\n",
    "    uid = test_ratings.iloc[i].userId\n",
    "    iid = test_ratings.iloc[i].movieId\n",
    "    predictions2.append(sim_user.predict(uid=uid,iid=iid).est)"
   ]
  },
  {
   "cell_type": "code",
   "execution_count": 233,
   "metadata": {
    "execution": {
     "iopub.execute_input": "2022-08-13T19:46:35.336449Z",
     "iopub.status.busy": "2022-08-13T19:46:35.335842Z",
     "iopub.status.idle": "2022-08-13T19:46:35.343846Z",
     "shell.execute_reply": "2022-08-13T19:46:35.342698Z",
     "shell.execute_reply.started": "2022-08-13T19:46:35.336399Z"
    },
    "id": "4AeDmgM33akL"
   },
   "outputs": [],
   "source": [
    "test_ratings[\"user_based_predictions\"] = predictions2"
   ]
  },
  {
   "cell_type": "code",
   "execution_count": 234,
   "metadata": {
    "execution": {
     "iopub.execute_input": "2022-08-13T19:46:35.345717Z",
     "iopub.status.busy": "2022-08-13T19:46:35.345198Z",
     "iopub.status.idle": "2022-08-13T19:46:35.363152Z",
     "shell.execute_reply": "2022-08-13T19:46:35.362118Z",
     "shell.execute_reply.started": "2022-08-13T19:46:35.345672Z"
    },
    "id": "DdUN2qab3akL"
   },
   "outputs": [
    {
     "data": {
      "text/html": [
       "<div>\n",
       "<style scoped>\n",
       "    .dataframe tbody tr th:only-of-type {\n",
       "        vertical-align: middle;\n",
       "    }\n",
       "\n",
       "    .dataframe tbody tr th {\n",
       "        vertical-align: top;\n",
       "    }\n",
       "\n",
       "    .dataframe thead th {\n",
       "        text-align: right;\n",
       "    }\n",
       "</style>\n",
       "<table border=\"1\" class=\"dataframe\">\n",
       "  <thead>\n",
       "    <tr style=\"text-align: right;\">\n",
       "      <th></th>\n",
       "      <th>userId</th>\n",
       "      <th>movieId</th>\n",
       "      <th>rating</th>\n",
       "      <th>timestamp</th>\n",
       "      <th>surprise_model_preds</th>\n",
       "      <th>user_based_predictions</th>\n",
       "    </tr>\n",
       "  </thead>\n",
       "  <tbody>\n",
       "    <tr>\n",
       "      <th>24000</th>\n",
       "      <td>607</td>\n",
       "      <td>1485</td>\n",
       "      <td>2.5</td>\n",
       "      <td>1118246475</td>\n",
       "      <td>3.205072</td>\n",
       "      <td>3.474639</td>\n",
       "    </tr>\n",
       "    <tr>\n",
       "      <th>24001</th>\n",
       "      <td>607</td>\n",
       "      <td>1552</td>\n",
       "      <td>3.5</td>\n",
       "      <td>1118247808</td>\n",
       "      <td>3.474277</td>\n",
       "      <td>3.317021</td>\n",
       "    </tr>\n",
       "    <tr>\n",
       "      <th>24002</th>\n",
       "      <td>607</td>\n",
       "      <td>1573</td>\n",
       "      <td>3.5</td>\n",
       "      <td>1118247493</td>\n",
       "      <td>3.363743</td>\n",
       "      <td>3.565833</td>\n",
       "    </tr>\n",
       "    <tr>\n",
       "      <th>24003</th>\n",
       "      <td>607</td>\n",
       "      <td>1580</td>\n",
       "      <td>4.5</td>\n",
       "      <td>1113406636</td>\n",
       "      <td>3.653257</td>\n",
       "      <td>3.874730</td>\n",
       "    </tr>\n",
       "    <tr>\n",
       "      <th>24004</th>\n",
       "      <td>607</td>\n",
       "      <td>1584</td>\n",
       "      <td>2.5</td>\n",
       "      <td>1113319332</td>\n",
       "      <td>3.697567</td>\n",
       "      <td>3.977930</td>\n",
       "    </tr>\n",
       "  </tbody>\n",
       "</table>\n",
       "</div>"
      ],
      "text/plain": [
       "       userId  movieId  rating   timestamp  surprise_model_preds  \\\n",
       "24000     607     1485     2.5  1118246475              3.205072   \n",
       "24001     607     1552     3.5  1118247808              3.474277   \n",
       "24002     607     1573     3.5  1118247493              3.363743   \n",
       "24003     607     1580     4.5  1113406636              3.653257   \n",
       "24004     607     1584     2.5  1113319332              3.697567   \n",
       "\n",
       "       user_based_predictions  \n",
       "24000                3.474639  \n",
       "24001                3.317021  \n",
       "24002                3.565833  \n",
       "24003                3.874730  \n",
       "24004                3.977930  "
      ]
     },
     "execution_count": 234,
     "metadata": {},
     "output_type": "execute_result"
    }
   ],
   "source": [
    "test_ratings.head()"
   ]
  },
  {
   "cell_type": "code",
   "execution_count": 235,
   "metadata": {
    "execution": {
     "iopub.execute_input": "2022-08-13T19:46:35.365154Z",
     "iopub.status.busy": "2022-08-13T19:46:35.364298Z",
     "iopub.status.idle": "2022-08-13T19:46:36.538011Z",
     "shell.execute_reply": "2022-08-13T19:46:36.537131Z",
     "shell.execute_reply.started": "2022-08-13T19:46:35.365119Z"
    },
    "id": "DvMl3fuB3akL"
   },
   "outputs": [
    {
     "data": {
      "text/plain": [
       "[('Four Rooms', 3.5726458333333335),\n",
       " ('Star Wars', 3.5726458333333335),\n",
       " ('Finding Nemo', 3.5726458333333335),\n",
       " ('Forrest Gump', 3.5726458333333335),\n",
       " ('American Beauty', 3.5726458333333335),\n",
       " ('Citizen Kane', 3.5726458333333335),\n",
       " ('Dancer in the Dark', 3.5726458333333335),\n",
       " ('The Fifth Element', 3.5726458333333335),\n",
       " ('Metropolis', 3.5726458333333335),\n",
       " ('Pirates of the Caribbean: The Curse of the Black Pearl',\n",
       "  3.5726458333333335)]"
      ]
     },
     "execution_count": 235,
     "metadata": {},
     "output_type": "execute_result"
    }
   ],
   "source": [
    "get_recommendations(ratings, df, 671,10,sim_user)"
   ]
  },
  {
   "cell_type": "markdown",
   "metadata": {
    "id": "D3jHua513akM"
   },
   "source": [
    "### **Item-Based**\n",
    "\n",
    "Item based recommendation method computes similarities between movies and will fetch the most similar movies using an algorithm and will recommend movies which one user likes to another user who likes similar kind of movie.\n"
   ]
  },
  {
   "cell_type": "code",
   "execution_count": 236,
   "metadata": {
    "execution": {
     "iopub.execute_input": "2022-08-13T19:46:36.540073Z",
     "iopub.status.busy": "2022-08-13T19:46:36.539327Z",
     "iopub.status.idle": "2022-08-13T19:46:37.060147Z",
     "shell.execute_reply": "2022-08-13T19:46:37.059227Z",
     "shell.execute_reply.started": "2022-08-13T19:46:36.540037Z"
    },
    "id": "tG2sIPBY3akM"
   },
   "outputs": [
    {
     "data": {
      "text/plain": [
       "<surprise.prediction_algorithms.knns.KNNBasic at 0x1de1e381f10>"
      ]
     },
     "execution_count": 236,
     "metadata": {},
     "output_type": "execute_result"
    }
   ],
   "source": [
    "\n",
    "parameters = {'name': 'cosine',\n",
    "               'user_based': False}\n",
    "\n",
    "# KNN algorithm\n",
    "sim_item = KNNBasic(sim_options=parameters, verbose=False)\n",
    "\n",
    "# Train the algorithm\n",
    "sim_item.fit(train_data)"
   ]
  },
  {
   "cell_type": "code",
   "execution_count": 237,
   "metadata": {
    "execution": {
     "iopub.execute_input": "2022-08-13T19:46:37.062044Z",
     "iopub.status.busy": "2022-08-13T19:46:37.061564Z",
     "iopub.status.idle": "2022-08-13T19:46:37.712308Z",
     "shell.execute_reply": "2022-08-13T19:46:37.711271Z",
     "shell.execute_reply.started": "2022-08-13T19:46:37.062002Z"
    },
    "id": "OHhAn87O3akM"
   },
   "outputs": [],
   "source": [
    "predictions3 = []\n",
    "for i in range(2124):\n",
    "    uid = test_ratings.iloc[i].userId\n",
    "    iid = test_ratings.iloc[i].movieId\n",
    "    predictions3.append(sim_item.predict(uid=uid,iid=iid).est)"
   ]
  },
  {
   "cell_type": "code",
   "execution_count": 238,
   "metadata": {
    "execution": {
     "iopub.execute_input": "2022-08-13T19:46:37.715776Z",
     "iopub.status.busy": "2022-08-13T19:46:37.715380Z",
     "iopub.status.idle": "2022-08-13T19:46:37.722728Z",
     "shell.execute_reply": "2022-08-13T19:46:37.721248Z",
     "shell.execute_reply.started": "2022-08-13T19:46:37.715741Z"
    },
    "id": "-9cmM9993akM"
   },
   "outputs": [],
   "source": [
    "test_ratings[\"item_based_predictions\"] = predictions3"
   ]
  },
  {
   "cell_type": "code",
   "execution_count": 239,
   "metadata": {
    "execution": {
     "iopub.execute_input": "2022-08-13T19:46:37.725039Z",
     "iopub.status.busy": "2022-08-13T19:46:37.724339Z",
     "iopub.status.idle": "2022-08-13T19:46:38.993222Z",
     "shell.execute_reply": "2022-08-13T19:46:38.992240Z",
     "shell.execute_reply.started": "2022-08-13T19:46:37.724991Z"
    },
    "id": "ck4yyRWz3akM"
   },
   "outputs": [
    {
     "data": {
      "text/plain": [
       "[('Hard Candy', 5),\n",
       " (\"The Hitchhiker's Guide to the Galaxy\", 5),\n",
       " ('From Dusk Till Dawn', 4.666666666666667),\n",
       " ('The Hunt for Red October', 4.666666666666667),\n",
       " ('Midnight Cowboy', 4.375),\n",
       " ('Spaceballs', 4.333333333333333),\n",
       " ('Sense and Sensibility', 4.25),\n",
       " ('Addams Family Values', 4.2),\n",
       " ('The Passion of the Christ', 4.1810699398399365),\n",
       " ('Manhattan', 4.153846153846154)]"
      ]
     },
     "execution_count": 239,
     "metadata": {},
     "output_type": "execute_result"
    }
   ],
   "source": [
    "get_recommendations(ratings, df, 344,10,sim_item)"
   ]
  },
  {
   "cell_type": "code",
   "execution_count": 240,
   "metadata": {
    "execution": {
     "iopub.execute_input": "2022-08-13T19:46:38.995505Z",
     "iopub.status.busy": "2022-08-13T19:46:38.994836Z",
     "iopub.status.idle": "2022-08-13T19:46:39.010488Z",
     "shell.execute_reply": "2022-08-13T19:46:39.009276Z",
     "shell.execute_reply.started": "2022-08-13T19:46:38.995457Z"
    },
    "id": "1Q7K6k5n3akM"
   },
   "outputs": [
    {
     "data": {
      "text/html": [
       "<div>\n",
       "<style scoped>\n",
       "    .dataframe tbody tr th:only-of-type {\n",
       "        vertical-align: middle;\n",
       "    }\n",
       "\n",
       "    .dataframe tbody tr th {\n",
       "        vertical-align: top;\n",
       "    }\n",
       "\n",
       "    .dataframe thead th {\n",
       "        text-align: right;\n",
       "    }\n",
       "</style>\n",
       "<table border=\"1\" class=\"dataframe\">\n",
       "  <thead>\n",
       "    <tr style=\"text-align: right;\">\n",
       "      <th></th>\n",
       "      <th>userId</th>\n",
       "      <th>movieId</th>\n",
       "      <th>rating</th>\n",
       "      <th>timestamp</th>\n",
       "      <th>surprise_model_preds</th>\n",
       "      <th>user_based_predictions</th>\n",
       "      <th>item_based_predictions</th>\n",
       "    </tr>\n",
       "  </thead>\n",
       "  <tbody>\n",
       "    <tr>\n",
       "      <th>24000</th>\n",
       "      <td>607</td>\n",
       "      <td>1485</td>\n",
       "      <td>2.5</td>\n",
       "      <td>1118246475</td>\n",
       "      <td>3.205072</td>\n",
       "      <td>3.474639</td>\n",
       "      <td>3.637051</td>\n",
       "    </tr>\n",
       "    <tr>\n",
       "      <th>24001</th>\n",
       "      <td>607</td>\n",
       "      <td>1552</td>\n",
       "      <td>3.5</td>\n",
       "      <td>1118247808</td>\n",
       "      <td>3.474277</td>\n",
       "      <td>3.317021</td>\n",
       "      <td>3.363687</td>\n",
       "    </tr>\n",
       "    <tr>\n",
       "      <th>24002</th>\n",
       "      <td>607</td>\n",
       "      <td>1573</td>\n",
       "      <td>3.5</td>\n",
       "      <td>1118247493</td>\n",
       "      <td>3.363743</td>\n",
       "      <td>3.565833</td>\n",
       "      <td>3.563762</td>\n",
       "    </tr>\n",
       "    <tr>\n",
       "      <th>24003</th>\n",
       "      <td>607</td>\n",
       "      <td>1580</td>\n",
       "      <td>4.5</td>\n",
       "      <td>1113406636</td>\n",
       "      <td>3.653257</td>\n",
       "      <td>3.874730</td>\n",
       "      <td>3.738659</td>\n",
       "    </tr>\n",
       "    <tr>\n",
       "      <th>24004</th>\n",
       "      <td>607</td>\n",
       "      <td>1584</td>\n",
       "      <td>2.5</td>\n",
       "      <td>1113319332</td>\n",
       "      <td>3.697567</td>\n",
       "      <td>3.977930</td>\n",
       "      <td>3.550351</td>\n",
       "    </tr>\n",
       "  </tbody>\n",
       "</table>\n",
       "</div>"
      ],
      "text/plain": [
       "       userId  movieId  rating   timestamp  surprise_model_preds  \\\n",
       "24000     607     1485     2.5  1118246475              3.205072   \n",
       "24001     607     1552     3.5  1118247808              3.474277   \n",
       "24002     607     1573     3.5  1118247493              3.363743   \n",
       "24003     607     1580     4.5  1113406636              3.653257   \n",
       "24004     607     1584     2.5  1113319332              3.697567   \n",
       "\n",
       "       user_based_predictions  item_based_predictions  \n",
       "24000                3.474639                3.637051  \n",
       "24001                3.317021                3.363687  \n",
       "24002                3.565833                3.563762  \n",
       "24003                3.874730                3.738659  \n",
       "24004                3.977930                3.550351  "
      ]
     },
     "execution_count": 240,
     "metadata": {},
     "output_type": "execute_result"
    }
   ],
   "source": [
    "test_ratings.head()"
   ]
  },
  {
   "cell_type": "code",
   "execution_count": 241,
   "metadata": {
    "execution": {
     "iopub.execute_input": "2022-08-13T19:46:39.012049Z",
     "iopub.status.busy": "2022-08-13T19:46:39.011666Z",
     "iopub.status.idle": "2022-08-13T19:46:39.022000Z",
     "shell.execute_reply": "2022-08-13T19:46:39.020723Z",
     "shell.execute_reply.started": "2022-08-13T19:46:39.012018Z"
    },
    "id": "BS1pGEla3akM"
   },
   "outputs": [
    {
     "name": "stdout",
     "output_type": "stream",
     "text": [
      "Surprise Model's Rating Predictions Have 0.7277373435689933 MAE score.\n",
      "User Based Predictions Have 0.8315417378625577 MAE score.\n",
      "Item Based Predictions Have 0.831684953571836 MAE score.\n"
     ]
    }
   ],
   "source": [
    "from sklearn.metrics import mean_absolute_error\n",
    "\n",
    "print(\"Surprise Model's Rating Predictions Have {} MAE score.\".format(mean_absolute_error(test_ratings.rating, test_ratings.surprise_model_preds)))\n",
    "print(\"User Based Predictions Have {} MAE score.\".format(mean_absolute_error(test_ratings.rating, test_ratings.user_based_predictions)))\n",
    "print(\"Item Based Predictions Have {} MAE score.\".format(mean_absolute_error(test_ratings.rating, test_ratings.item_based_predictions)))"
   ]
  },
  {
   "cell_type": "code",
   "execution_count": null,
   "metadata": {
    "id": "-P23ha1K3akM"
   },
   "outputs": [],
   "source": []
  }
 ],
 "metadata": {
  "colab": {
   "name": "Movie Recommender_Milind_draft_v1.ipynb",
   "provenance": []
  },
  "kernelspec": {
   "display_name": "Python 3 (ipykernel)",
   "language": "python",
   "name": "python3"
  },
  "language_info": {
   "codemirror_mode": {
    "name": "ipython",
    "version": 3
   },
   "file_extension": ".py",
   "mimetype": "text/x-python",
   "name": "python",
   "nbconvert_exporter": "python",
   "pygments_lexer": "ipython3",
   "version": "3.9.7"
  }
 },
 "nbformat": 4,
 "nbformat_minor": 1
}
